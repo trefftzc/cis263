{
  "nbformat": 4,
  "nbformat_minor": 0,
  "metadata": {
    "colab": {
      "provenance": [],
      "authorship_tag": "ABX9TyPUSeCZaFfbBf6hleoVJAzj",
      "include_colab_link": true
    },
    "kernelspec": {
      "name": "python3",
      "display_name": "Python 3"
    },
    "language_info": {
      "name": "python"
    }
  },
  "cells": [
    {
      "cell_type": "markdown",
      "metadata": {
        "id": "view-in-github",
        "colab_type": "text"
      },
      "source": [
        "<a href=\"https://colab.research.google.com/github/trefftzc/cis263/blob/main/A_starting_point_for_project2_avl_bst_heights.ipynb\" target=\"_parent\"><img src=\"https://colab.research.google.com/assets/colab-badge.svg\" alt=\"Open In Colab\"/></a>"
      ]
    },
    {
      "cell_type": "markdown",
      "source": [],
      "metadata": {
        "id": "W8tvA658l7U3"
      }
    },
    {
      "cell_type": "markdown",
      "source": [
        "# A starting point for the second project\n",
        "Comparing the height of an AVL tree and a BST with the same data.\n",
        "\n",
        "You can execute commands in the linux machine that is powering COLAB\n",
        "by using the ! command before a regular linux command line command."
      ],
      "metadata": {
        "id": "an1CRUn-l8-_"
      }
    },
    {
      "cell_type": "code",
      "execution_count": 1,
      "metadata": {
        "colab": {
          "base_uri": "https://localhost:8080/"
        },
        "id": "O4LrjMubl54h",
        "outputId": "2d815d6d-36a2-43df-8c1b-e63a6c91f076"
      },
      "outputs": [
        {
          "output_type": "stream",
          "name": "stdout",
          "text": [
            "sample_data\n"
          ]
        }
      ],
      "source": [
        "!ls"
      ]
    },
    {
      "cell_type": "markdown",
      "source": [
        "Now let's install the python code associated with the textbook.\n",
        "We will use git."
      ],
      "metadata": {
        "id": "TYuFBYj6mdtJ"
      }
    },
    {
      "cell_type": "code",
      "source": [
        "!git clone https://github.com/goldwasser/DSAP.git"
      ],
      "metadata": {
        "colab": {
          "base_uri": "https://localhost:8080/"
        },
        "id": "fAkNqR5Smilo",
        "outputId": "51565cb7-5b2b-4e8e-aa93-6c7f20c47d7c"
      },
      "execution_count": 3,
      "outputs": [
        {
          "output_type": "stream",
          "name": "stdout",
          "text": [
            "Cloning into 'DSAP'...\n",
            "remote: Enumerating objects: 597, done.\u001b[K\n",
            "remote: Counting objects: 100% (597/597), done.\u001b[K\n",
            "remote: Compressing objects: 100% (313/313), done.\u001b[K\n",
            "remote: Total 597 (delta 363), reused 512 (delta 282), pack-reused 0 (from 0)\u001b[K\n",
            "Receiving objects: 100% (597/597), 115.05 KiB | 5.75 MiB/s, done.\n",
            "Resolving deltas: 100% (363/363), done.\n"
          ]
        }
      ]
    },
    {
      "cell_type": "markdown",
      "source": [
        "Let's check if the subdirectory with the source code was downloaded succesfully."
      ],
      "metadata": {
        "id": "jNxCswuRmxjx"
      }
    },
    {
      "cell_type": "code",
      "source": [
        "!ls"
      ],
      "metadata": {
        "colab": {
          "base_uri": "https://localhost:8080/"
        },
        "id": "ZifQIgO7m5ve",
        "outputId": "b7a5799b-ec97-4a23-e931-ce88a1e1c256"
      },
      "execution_count": 4,
      "outputs": [
        {
          "output_type": "stream",
          "name": "stdout",
          "text": [
            "DSAP  sample_data\n"
          ]
        }
      ]
    },
    {
      "cell_type": "markdown",
      "source": [
        "Now, let's try the initial code:"
      ],
      "metadata": {
        "id": "PXRgXrVtm_G2"
      }
    },
    {
      "cell_type": "code",
      "source": [
        "%%writefile DSAP/bst_vs_avl.py\n",
        "# Using BSTs and AVL trees\n",
        "\n",
        "from dsap.searchtree.binary_search_tree import TreeMap\n",
        "from dsap.searchtree.avl_tree import AVLTreeMap\n",
        "\n",
        "import numpy as np\n",
        "import random\n",
        "\n",
        "number_of_elements = 1024\n",
        "elements = np.zeros(number_of_elements,dtype=int)\n",
        "for i in range(number_of_elements):\n",
        "  elements[i] = random.randint(0,number_of_elements*number_of_elements)\n",
        "\n",
        "bst = TreeMap()\n",
        "for i in range(number_of_elements):\n",
        "  bst.__setitem__(elements[i],elements[i])\n",
        "\n",
        "\n",
        "avl = AVLTreeMap()\n",
        "for i in range(number_of_elements):\n",
        "    avl.__setitem__(elements[i],elements[i])\n",
        "\n",
        "print(\"The height of the BST is: \",bst.height())\n",
        "print(\"The height of the AVL is: \",avl.height())\n",
        "\n"
      ],
      "metadata": {
        "colab": {
          "base_uri": "https://localhost:8080/"
        },
        "id": "sljo5wjOnCNf",
        "outputId": "7d3a1855-d938-46fa-eab7-ad34e7532c12"
      },
      "execution_count": 13,
      "outputs": [
        {
          "output_type": "stream",
          "name": "stdout",
          "text": [
            "Overwriting DSAP/bst_vs_avl.py\n"
          ]
        }
      ]
    },
    {
      "cell_type": "code",
      "source": [
        "!python DSAP/bst_vs_avl.py"
      ],
      "metadata": {
        "colab": {
          "base_uri": "https://localhost:8080/"
        },
        "id": "iukEEX0RoG62",
        "outputId": "33aa6dc8-48fe-49fe-8e6b-1302399c3b4b"
      },
      "execution_count": 14,
      "outputs": [
        {
          "output_type": "stream",
          "name": "stdout",
          "text": [
            "The height of the BST is:  20\n",
            "The height of the AVL is:  11\n"
          ]
        }
      ]
    }
  ]
}