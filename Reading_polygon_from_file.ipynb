{
  "nbformat": 4,
  "nbformat_minor": 0,
  "metadata": {
    "colab": {
      "provenance": [],
      "authorship_tag": "ABX9TyMSdl4I7XlKJGypKO3oWLnd",
      "include_colab_link": true
    },
    "kernelspec": {
      "name": "python3",
      "display_name": "Python 3"
    },
    "language_info": {
      "name": "python"
    }
  },
  "cells": [
    {
      "cell_type": "markdown",
      "metadata": {
        "id": "view-in-github",
        "colab_type": "text"
      },
      "source": [
        "<a href=\"https://colab.research.google.com/github/trefftzc/cis263/blob/main/Reading_polygon_from_file.ipynb\" target=\"_parent\"><img src=\"https://colab.research.google.com/assets/colab-badge.svg\" alt=\"Open In Colab\"/></a>"
      ]
    },
    {
      "cell_type": "markdown",
      "source": [
        "# Example of how to read the vertices of a polygon from the standard input"
      ],
      "metadata": {
        "id": "AdbRf0tKOjA-"
      }
    },
    {
      "cell_type": "code",
      "execution_count": 6,
      "metadata": {
        "colab": {
          "base_uri": "https://localhost:8080/"
        },
        "id": "740czxOeOiHV",
        "outputId": "2448020d-8bec-4d50-80a6-e7c7b558f9a3"
      },
      "outputs": [
        {
          "output_type": "stream",
          "name": "stdout",
          "text": [
            "Overwriting polygon1.txt\n"
          ]
        }
      ],
      "source": [
        "%%writefile polygon1.txt\n",
        "8\n",
        "0 0\n",
        "5 0\n",
        "5 3\n",
        "4 3\n",
        "4 1\n",
        "1 1\n",
        "1 3\n",
        "0 3"
      ]
    },
    {
      "cell_type": "code",
      "source": [
        "%%writefile reading_from_standard_input.py\n",
        "n = int(input())\n",
        "polygon_points = []\n",
        "print(\"n is: \",n)\n",
        "\n",
        "for i in range(n):\n",
        "  valuesString = input()\n",
        "  print(valuesString)\n",
        "  values = valuesString.split()\n",
        "  x = int(values[0])\n",
        "  y = int(values[1])\n",
        "  polygon_points.append([x,y])\n",
        "\n",
        "print(polygon_points)"
      ],
      "metadata": {
        "colab": {
          "base_uri": "https://localhost:8080/"
        },
        "id": "o-OFpOGSPIgc",
        "outputId": "bb80efd0-7be9-490c-aa3b-3a977b2e951b"
      },
      "execution_count": 13,
      "outputs": [
        {
          "output_type": "stream",
          "name": "stdout",
          "text": [
            "Overwriting reading_from_standard_input.py\n"
          ]
        }
      ]
    },
    {
      "cell_type": "code",
      "source": [
        "!python reading_from_standard_input.py < polygon1.txt"
      ],
      "metadata": {
        "colab": {
          "base_uri": "https://localhost:8080/"
        },
        "id": "sOHI1diiP7md",
        "outputId": "424ddc84-6f49-4b94-a07b-3be1949697b8"
      },
      "execution_count": 14,
      "outputs": [
        {
          "output_type": "stream",
          "name": "stdout",
          "text": [
            "n is:  8\n",
            "0 0\n",
            "5 0 \n",
            "5 3 \n",
            "4 3\n",
            "4 1\n",
            "1 1\n",
            "1 3\n",
            "0 3\n",
            "[[0, 0], [5, 0], [5, 3], [4, 3], [4, 1], [1, 1], [1, 3], [0, 3]]\n"
          ]
        }
      ]
    }
  ]
}