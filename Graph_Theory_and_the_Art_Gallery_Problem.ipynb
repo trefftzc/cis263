{
  "nbformat": 4,
  "nbformat_minor": 0,
  "metadata": {
    "colab": {
      "provenance": [],
      "authorship_tag": "ABX9TyOdvxyppTg2udK37av9uc35",
      "include_colab_link": true
    },
    "kernelspec": {
      "name": "python3",
      "display_name": "Python 3"
    },
    "language_info": {
      "name": "python"
    }
  },
  "cells": [
    {
      "cell_type": "markdown",
      "metadata": {
        "id": "view-in-github",
        "colab_type": "text"
      },
      "source": [
        "<a href=\"https://colab.research.google.com/github/trefftzc/cis263/blob/main/Graph_Theory_and_the_Art_Gallery_Problem.ipynb\" target=\"_parent\"><img src=\"https://colab.research.google.com/assets/colab-badge.svg\" alt=\"Open In Colab\"/></a>"
      ]
    },
    {
      "cell_type": "markdown",
      "source": [],
      "metadata": {
        "id": "caGjaY_OzLYZ"
      }
    },
    {
      "cell_type": "markdown",
      "source": [
        "# A minimal introduction to graph theory and NetworkX\n",
        "\n",
        "Graphs are very powerful mathematical objects that can be used to model many different systems.\n",
        "\n",
        "There are many kinds of graphs.\n",
        "\n",
        "Here we will focus on:\n",
        "\n",
        "- Undirected graphs with no weights associated with their edges.\n",
        "\n",
        "Graphs have two main components:\n",
        "\n",
        "- Nodes: Every node has an unique label. Here we will use integers as labels for the nodes.\n",
        "- Edges: Edges connect pairs of nodes. The connections are bidirectional.\n",
        "\n",
        "The NetworkX is a very complete Python library for manipulating graphs.\n",
        "\n",
        "Its documentation is available here: https://networkx.org/\n",
        "\n",
        "We start by installing networkx:"
      ],
      "metadata": {
        "id": "iP9jyPrx0Ge5"
      }
    },
    {
      "cell_type": "code",
      "source": [
        "!pip install networkx"
      ],
      "metadata": {
        "colab": {
          "base_uri": "https://localhost:8080/"
        },
        "id": "F7RRRfnuz977",
        "outputId": "427c5121-29e9-4722-be2f-2ad696cf8dd3"
      },
      "execution_count": 8,
      "outputs": [
        {
          "output_type": "stream",
          "name": "stdout",
          "text": [
            "Requirement already satisfied: networkx in /usr/local/lib/python3.11/dist-packages (3.4.2)\n"
          ]
        }
      ]
    },
    {
      "cell_type": "markdown",
      "source": [
        "# To create a graph\n",
        "\n",
        "1. Import the library networkx\n",
        "2. Create a graph\n",
        "3. Add the vertices to the graph\n",
        "4. Add the edges to the graph"
      ],
      "metadata": {
        "id": "jOwtcZYm0jNB"
      }
    },
    {
      "cell_type": "code",
      "source": [
        "import networkx as nx\n",
        "\n",
        "G = nx.Graph() # Create a graph\n",
        "\n",
        "# Let's assume that we are going to create a graph with 5 nodes\n",
        "N = 5\n",
        "for i in range(N):\n",
        "  G.add_node(i) # Add the nodes to the graph\n",
        "\n",
        "# For the sake of this example, node 0 will be connected to other 4 nodes in the graph\n",
        "for i in range(1, N):\n",
        "  G.add_edge(0, i) # Add the edges to the graph"
      ],
      "metadata": {
        "id": "_gNetQG-000B"
      },
      "execution_count": 9,
      "outputs": []
    },
    {
      "cell_type": "markdown",
      "source": [
        "# For the Art Gallery Problem\n",
        "For the purpose of solving the Art Gallery Problem the method, the method\n",
        " nx.is_dominating_set(G,s)\n",
        " will be extremely useful.\n",
        " Given a Graph G and subset of nodes s, the method is_dominating_set will return true if the subset of nodes s is a dominating set\n",
        " or false otherwise.\n",
        "\n",
        " More information about dominating sets can be found in Wikipedia:\n",
        "  https://en.wikipedia.org/wiki/Dominating_set\n",
        "\n",
        "\"In graph theory, a dominating set for a graph G is a subset D of its vertices, such that any vertex of G is in D, or has a neighbor in D. The domination number γ(G) is the number of vertices in a smallest dominating set for G.\"\n",
        "\n",
        "So, if we create a Graph out of the triangulation, a dominating set of that graph will be a solution to the Art Gallery Problem.\n",
        "\n",
        "Continuing with the previous example:"
      ],
      "metadata": {
        "id": "EzBaICLX1rB6"
      }
    },
    {
      "cell_type": "code",
      "source": [
        "# Let's check if the nodes 1 and 2 are a dominating set\n",
        "s = [1,2]\n",
        "if nx.is_dominating_set(G,s):\n",
        "  print(\"The nodes\", s, \"are a dominating set\")\n",
        "else:\n",
        "  print(\"The nodes\", s, \"are not a dominating set\")"
      ],
      "metadata": {
        "colab": {
          "base_uri": "https://localhost:8080/"
        },
        "id": "TfAXyFjO2m8h",
        "outputId": "590a0b58-31e4-41e5-d05d-585099df17c6"
      },
      "execution_count": 10,
      "outputs": [
        {
          "output_type": "stream",
          "name": "stdout",
          "text": [
            "The nodes [1, 2] are not a dominating set\n"
          ]
        }
      ]
    },
    {
      "cell_type": "code",
      "source": [
        "# Let's check if the nodes 0 is a dominating set\n",
        "s = [0]\n",
        "if nx.is_dominating_set(G,s):\n",
        "  print(\"The nodes\", s, \"are a dominating set\")\n",
        "else:\n",
        "  print(\"The nodes\", s, \"are not a dominating set\")"
      ],
      "metadata": {
        "colab": {
          "base_uri": "https://localhost:8080/"
        },
        "id": "zE4jL_IJ2z5i",
        "outputId": "ac56a5fc-303b-44a6-f1c8-0001c63a6ee6"
      },
      "execution_count": 11,
      "outputs": [
        {
          "output_type": "stream",
          "name": "stdout",
          "text": [
            "The nodes [0] are a dominating set\n"
          ]
        }
      ]
    },
    {
      "cell_type": "markdown",
      "source": [
        "Plotting the graph is unnecessary for the Art Gallery Problem, but for the sake of this example, let's plot the Graph G:"
      ],
      "metadata": {
        "id": "6st61gwI2-qi"
      }
    },
    {
      "cell_type": "code",
      "source": [
        "import matplotlib.pyplot as plt\n",
        "pos = nx.spring_layout(G, seed=3068)  # Seed layout for reproducibility\n",
        "nx.draw(G, pos=pos, with_labels=True)\n",
        "plt.show()"
      ],
      "metadata": {
        "colab": {
          "base_uri": "https://localhost:8080/",
          "height": 516
        },
        "id": "gRDHvMkb3J0J",
        "outputId": "c102116f-3332-402e-bda3-9e720f3a4b2a"
      },
      "execution_count": 12,
      "outputs": [
        {
          "output_type": "display_data",
          "data": {
            "text/plain": [
              "<Figure size 640x480 with 1 Axes>"
            ],
            "image/png": "[encoded data removed]"
          },
          "metadata": {}
        }
      ]
    },
    {
      "cell_type": "markdown",
      "source": [
        "This should convince you that the subset of nodes [0] is a dominating set and the subset of nodes[1,2] is not a dominating set."
      ],
      "metadata": {
        "id": "7W-eV93F3YPR"
      }
    },
    {
      "cell_type": "markdown",
      "source": [
        "Going back to the Art Gallery Problem, you will start by reading the points from the Polygon and then generating the triangulation of the polygon.\n",
        "\n",
        "At this point, you can create the graph:\n",
        "- You will have one node in the graph for every vertex in the polygon\n",
        "- You use the pais of vertices in the triangulation to add the edges to the graph\n",
        "\n",
        "You will generate the Power Set of the set of vertices.\n",
        "\n",
        "For each one of the subsets that you have in the Power Set, you will test if that particular subset is a dominating set. You will keep track of the smallest dominating set and report it at the end."
      ],
      "metadata": {
        "id": "1IM4Hfo33m9r"
      }
    }
  ]
}