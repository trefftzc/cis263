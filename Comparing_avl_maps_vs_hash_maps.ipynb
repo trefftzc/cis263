{
  "nbformat": 4,
  "nbformat_minor": 0,
  "metadata": {
    "colab": {
      "provenance": [],
      "authorship_tag": "ABX9TyNVH/3WDsyne9VogWci7sf4",
      "include_colab_link": true
    },
    "kernelspec": {
      "name": "python3",
      "display_name": "Python 3"
    },
    "language_info": {
      "name": "python"
    }
  },
  "cells": [
    {
      "cell_type": "markdown",
      "metadata": {
        "id": "view-in-github",
        "colab_type": "text"
      },
      "source": [
        "<a href=\"https://colab.research.google.com/github/trefftzc/cis263/blob/main/Comparing_avl_maps_vs_hash_maps.ipynb\" target=\"_parent\"><img src=\"https://colab.research.google.com/assets/colab-badge.svg\" alt=\"Open In Colab\"/></a>"
      ]
    },
    {
      "cell_type": "markdown",
      "source": [
        "# Comparing AVL Tree base maps and hash table based maps"
      ],
      "metadata": {
        "id": "jf7GumkgoOKg"
      }
    },
    {
      "cell_type": "code",
      "execution_count": 1,
      "metadata": {
        "colab": {
          "base_uri": "https://localhost:8080/"
        },
        "id": "ulTfmDt9n_uC",
        "outputId": "3cfb2cf7-2972-45bc-e9de-4fc303a47622"
      },
      "outputs": [
        {
          "output_type": "stream",
          "name": "stdout",
          "text": [
            "Cloning into 'DSAP'...\n",
            "remote: Enumerating objects: 597, done.\u001b[K\n",
            "remote: Counting objects: 100% (597/597), done.\u001b[K\n",
            "remote: Compressing objects: 100% (313/313), done.\u001b[K\n",
            "remote: Total 597 (delta 363), reused 512 (delta 282), pack-reused 0 (from 0)\u001b[K\n",
            "Receiving objects: 100% (597/597), 115.05 KiB | 1.15 MiB/s, done.\n",
            "Resolving deltas: 100% (363/363), done.\n"
          ]
        }
      ],
      "source": [
        "!git clone https://github.com/goldwasser/DSAP.git"
      ]
    },
    {
      "cell_type": "code",
      "source": [
        "%%writefile DSAP/avl_vs_hash.py\n",
        "# Using AVL maps and hash maps\n",
        "\n",
        "from dsap.mapping.chain_hash_map import ChainHashMap\n",
        "from dsap.searchtree.avl_tree import AVLTreeMap\n",
        "\n",
        "import numpy as np\n",
        "import random\n",
        "import time\n",
        "\n",
        "def insert_in_avl(avl_map,elements):\n",
        "  for i in range(number_of_elements):\n",
        "    avl_map.__setitem__(elements[i],elements[i])\n",
        "\n",
        "def insert_in_hash(hash_map,elements):\n",
        "  for i in range(number_of_elements):\n",
        "    hash_map.__setitem__(elements[i],elements[i])\n",
        "\n",
        "\n",
        "if __name__ == \"__main__\":\n",
        "  # Generate the random numbers to insert\n",
        "  number_of_elements = 1024\n",
        "  elements = np.zeros(number_of_elements,dtype=int)\n",
        "  for i in range(number_of_elements):\n",
        "    elements[i] = random.randint(0,number_of_elements*number_of_elements)\n",
        "\n",
        "  # Insert the elements in the AVLTreeMap and in the hashmap\n",
        "  avl_map = AVLTreeMap()\n",
        "  hash_map = ChainHashMap()\n",
        "  start_time = time.time()\n",
        "  insert_in_avl(avl_map,elements)\n",
        "  end_time = time.time()\n",
        "  execution_time = end_time - start_time\n",
        "  print(f\"Execution time  of insert_in_avl: {execution_time} seconds\")\n",
        "\n",
        "  start_time = time.time()\n",
        "  insert_in_hash(hash_map,elements)\n",
        "  end_time = time.time()\n",
        "  execution_time = end_time - start_time\n",
        "  print(f\"Execution time  of insert_in_hash map: {execution_time} seconds\")\n",
        "\n",
        "# Now compare the times required to look up for the elements\n",
        "  start_time = time.time()\n",
        "  for i in range(number_of_elements):\n",
        "    avl_map.__getitem__(elements[i])\n",
        "  end_time = time.time()\n",
        "  execution_time = end_time - start_time\n",
        "  print(f\"Execution time to look up all the elements in the avl map: {execution_time} seconds\")\n",
        "\n",
        "  start_time = time.time()\n",
        "  for i in range(number_of_elements):\n",
        "    hash_map.__getitem__(elements[i])\n",
        "  end_time = time.time()\n",
        "  execution_time = end_time - start_time\n",
        "  print(f\"Execution time to look up all the elements in the hash map: {execution_time} seconds\")\n",
        "\n",
        "\n"
      ],
      "metadata": {
        "colab": {
          "base_uri": "https://localhost:8080/"
        },
        "id": "yMSGyl2Hob4L",
        "outputId": "35761e39-ec65-4105-f129-d74fd411499f"
      },
      "execution_count": 22,
      "outputs": [
        {
          "output_type": "stream",
          "name": "stdout",
          "text": [
            "Overwriting DSAP/avl_vs_hash.py\n"
          ]
        }
      ]
    },
    {
      "cell_type": "code",
      "source": [
        "!python DSAP/avl_vs_hash.py\n"
      ],
      "metadata": {
        "colab": {
          "base_uri": "https://localhost:8080/"
        },
        "id": "0771CgXLqi6J",
        "outputId": "6cab520d-170d-42b6-9700-ff5bc72a6fe7"
      },
      "execution_count": 23,
      "outputs": [
        {
          "output_type": "stream",
          "name": "stdout",
          "text": [
            "Execution time  of insert_in_avl: 0.024083614349365234 seconds\n",
            "Execution time  of insert_in_hash map: 0.005059480667114258 seconds\n",
            "Execution time to look up all the elements in the avl map: 0.011366128921508789 seconds\n",
            "Execution time to look up all the elements in the hash map: 0.0008845329284667969 seconds\n"
          ]
        }
      ]
    }
  ]
}