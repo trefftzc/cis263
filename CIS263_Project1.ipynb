{
  "nbformat": 4,
  "nbformat_minor": 0,
  "metadata": {
    "colab": {
      "provenance": [],
      "authorship_tag": "ABX9TyNIVtLs9+pmyqRHg9go74oi",
      "include_colab_link": true
    },
    "kernelspec": {
      "name": "python3",
      "display_name": "Python 3"
    },
    "language_info": {
      "name": "python"
    }
  },
  "cells": [
    {
      "cell_type": "markdown",
      "metadata": {
        "id": "view-in-github",
        "colab_type": "text"
      },
      "source": [
        "<a href=\"https://colab.research.google.com/github/trefftzc/cis263/blob/main/CIS263_Project1.ipynb\" target=\"_parent\"><img src=\"https://colab.research.google.com/assets/colab-badge.svg\" alt=\"Open In Colab\"/></a>"
      ]
    },
    {
      "cell_type": "markdown",
      "source": [
        "# The partition problem\n",
        "\n",
        "The partition problem is intuitive: Given a collection of n objects, can we place part of those objects in the left hand of a balance and the remaining objects in the right hand side of a balance so that they weigh the same? In other (more mathematical) words, if we have a multiset of integers s, can we partition that multiset into two separate multisets q and r so that the sum of the elements in q is the same as the sum of the elements in r. A more formal statement of the problem can be found on mathworld.wolfram [here](https://mathworld.wolfram.com/NumberPartitioningProblem.html).\n",
        "\n",
        "This simple problem belongs to a very unique kind of problems called NP-complete problems that are very hard to solve.\n",
        "Given an instance of the partition problem with n positive integer values, one way to find if there is a solution to that instance is to examine each and every one of the $2^n$ subsets and to check for every one of those subsets if that subset and its complement are a solution to this instance of the partition problem. One adds up the elements in the subset, adds up the elements in the complement and if the two sums are the same, this is a solution to this instance of the partition problem.\n",
        "\n",
        "The set of all the subsets of a set is called the power set.\n",
        "\n",
        "Consider the following example: {2,3,5}. In this case n, the number of elements in the instance of the partition problem, is 3. If one calculates all the possible subsets, there are $2^3$ = 8 possible distinct subsets. The following table shows the eight subsets, their complements and indicates which of those subsets are solutions for this instance of the partition problem.\n",
        "\n",
        "| Index | Binary Encoding | Elements | Elements in the Complement | Solution |\n",
        "|:-------|:-----------------|:----------|:------------------------|:--------------|\n",
        "| 0 |\t000\t| {}\t| {2,3,5}\t| No |\n",
        "|1 |\t001\t|{2}\t|{3,5}\t|No\n",
        "|2 |\t010\t|{3}\t|{2,5}\t|No\n",
        "|3 |\t011\t|{2,3}\t|{5}\t|Yes\n",
        "|4 |\t100\t|{5}\t|{2,3}\t|Yes\n",
        "|5 |\t101\t|{2,5}\t|{3}\t|No\n",
        "|6 |\t110\t|{3,5}\t|{2}\t|No\n",
        "|7 |\t111\t|{2,3,5}\t|{}\t|No\n",
        "\n",
        "Notice that the first half of the table is symmetrical to the second half of the table. Hence, one only needs to go through the first half of all the elements in the Power Set."
      ],
      "metadata": {
        "id": "vcNsSRGtQ6G0"
      }
    },
    {
      "cell_type": "markdown",
      "source": [
        "# The Power Set\n",
        "The power set can be defined as:\n",
        "\"Given a set S, the power set of S, sometimes also called the powerset, is the set of all subsets of S. The order of a power set of a set of order n is 2^n. Power sets are larger than the sets associated with them. The power set of S is variously denoted 2^S or P(S).\"\n",
        "\n",
        "https://www.wolframalpha.com/input?i=POWER+SET\n",
        "\n",
        "The partition problem can be solved by\n",
        "calculating the power set of the multiset of integers\n",
        "and then checking each and every one of the\n",
        "possible subsets to see if it and its complement\n",
        "are a solution to the instance of the partition problem."
      ],
      "metadata": {
        "id": "LYxEnQKSRGE6"
      }
    },
    {
      "cell_type": "code",
      "execution_count": null,
      "metadata": {
        "id": "w475AzMFQaUF"
      },
      "outputs": [],
      "source": []
    },
    {
      "cell_type": "code",
      "source": [
        "#\n",
        "# I learned about these libraries from Ian Curtis, a student in one of the sections\n",
        "# of the HPC course during the fall of 2023\n",
        "#\n",
        "# Using itertools to calculate the PowerSet\n",
        "#\n",
        "\n",
        "from itertools import chain, combinations\n",
        "\n",
        "\n",
        "def powerset(iterable):\n",
        "    \"powerset([1,2,3]) --> () (1,) (2,) (3,) (1,2) (1,3) (2,3) (1,2,3)\"\n",
        "    s = list(iterable)\n",
        "    return chain.from_iterable(combinations(s, r) for r in range(len(s)+1))\n",
        "\n",
        "\n",
        "example_list = [0,1,2]\n",
        "powerset_of_example_list = powerset(example_list)\n",
        "print(\"This is the power set of the set of [0,1,2]\")\n",
        "for s in powerset_of_example_list:\n",
        "    print(s)"
      ],
      "metadata": {
        "colab": {
          "base_uri": "https://localhost:8080/"
        },
        "id": "r5QyP7obROVi",
        "outputId": "1d525420-2292-4a0a-c79f-70424f7dd6af"
      },
      "execution_count": 1,
      "outputs": [
        {
          "output_type": "stream",
          "name": "stdout",
          "text": [
            "This is the power set of the set of [0,1,2]\n",
            "()\n",
            "(0,)\n",
            "(1,)\n",
            "(2,)\n",
            "(0, 1)\n",
            "(0, 2)\n",
            "(1, 2)\n",
            "(0, 1, 2)\n"
          ]
        }
      ]
    },
    {
      "cell_type": "markdown",
      "source": [
        "Let's create several test files to use later.\n",
        "\n",
        "Some of these test files will be instances of the partition problem that have solutions.\n",
        "\n",
        "Other test files will be instances of the partition problem that do not have a solution.\n",
        "\n",
        "The format of the test files is as follows:\n",
        "The first line contains the size of the multiset, how many integers there are.\n",
        "The second line contains the actual multiset.\n",
        "\n",
        "Let's start with the test files with solutions."
      ],
      "metadata": {
        "id": "UIS82jAZRZ86"
      }
    },
    {
      "cell_type": "code",
      "source": [
        "%%writefile with_solution_20.Text\n",
        "20\n",
        "1 1 1 1 1 1 1 1 1 1 1 1 1 1 1 1 1 1 1 19"
      ],
      "metadata": {
        "colab": {
          "base_uri": "https://localhost:8080/"
        },
        "id": "dofE1SZ6R-vb",
        "outputId": "8c43bac0-d4a1-48f6-81a8-d7e1dabcc87b"
      },
      "execution_count": 9,
      "outputs": [
        {
          "output_type": "stream",
          "name": "stdout",
          "text": [
            "Overwriting with_solution_20.Text\n"
          ]
        }
      ]
    },
    {
      "cell_type": "code",
      "source": [
        "%%writefile with_solution_21.Text\n",
        "21\n",
        "1 1 1 1 1 1 1 1 1 1 1 1 1 1 1 1 1 1 1 1 20"
      ],
      "metadata": {
        "colab": {
          "base_uri": "https://localhost:8080/"
        },
        "id": "fJC3WImlSQcD",
        "outputId": "4ddb35a9-35be-4ba5-915c-35c70783be9b"
      },
      "execution_count": 10,
      "outputs": [
        {
          "output_type": "stream",
          "name": "stdout",
          "text": [
            "Overwriting with_solution_21.Text\n"
          ]
        }
      ]
    },
    {
      "cell_type": "code",
      "source": [
        "%%writefile with_solution_22.Text\n",
        "22\n",
        "1 1 1 1 1 1 1 1 1 1 1 1 1 1 1 1 1 1 1 1 1 21"
      ],
      "metadata": {
        "colab": {
          "base_uri": "https://localhost:8080/"
        },
        "id": "h53qSlcwSVTi",
        "outputId": "e4e50b2b-ea5b-42a8-a3f7-76c59bf1c83f"
      },
      "execution_count": 11,
      "outputs": [
        {
          "output_type": "stream",
          "name": "stdout",
          "text": [
            "Overwriting with_solution_22.Text\n"
          ]
        }
      ]
    },
    {
      "cell_type": "code",
      "source": [
        "%%writefile with_solution_23.Text\n",
        "23\n",
        "1 1 1 1 1 1 1 1 1 1 1 1 1 1 1 1 1 1 1 1 1 1 22"
      ],
      "metadata": {
        "colab": {
          "base_uri": "https://localhost:8080/"
        },
        "id": "W-LU1hb7SZk6",
        "outputId": "9af0ad26-e6e8-40a6-a1df-255bc0a66385"
      },
      "execution_count": 19,
      "outputs": [
        {
          "output_type": "stream",
          "name": "stdout",
          "text": [
            "Overwriting with_solution_23.Text\n"
          ]
        }
      ]
    },
    {
      "cell_type": "markdown",
      "source": [
        "Now, the instances that do not have solutions."
      ],
      "metadata": {
        "id": "og8zrEVZSdPb"
      }
    },
    {
      "cell_type": "code",
      "source": [
        "%%writefile no_solution_20.Text\n",
        "20\n",
        "1 1 1 1 1 1 1 1 1 1 1 1 1 1 1 1 1 1 1 21"
      ],
      "metadata": {
        "colab": {
          "base_uri": "https://localhost:8080/"
        },
        "id": "2Be7fLawSiq6",
        "outputId": "bace5f20-c41a-4e40-9fd2-ca7b7fcf9d98"
      },
      "execution_count": 13,
      "outputs": [
        {
          "output_type": "stream",
          "name": "stdout",
          "text": [
            "Overwriting no_solution_20.Text\n"
          ]
        }
      ]
    },
    {
      "cell_type": "code",
      "source": [
        "%%writefile no_solution_21.Text\n",
        "21\n",
        "1 1 1 1 1 1 1 1 1 1 1 1 1 1 1 1 1 1 1 1 22"
      ],
      "metadata": {
        "colab": {
          "base_uri": "https://localhost:8080/"
        },
        "id": "BBmUaw7NSrM6",
        "outputId": "111b70a9-4f7a-4347-896e-4096b58fe811"
      },
      "execution_count": 14,
      "outputs": [
        {
          "output_type": "stream",
          "name": "stdout",
          "text": [
            "Overwriting no_solution_21.Text\n"
          ]
        }
      ]
    },
    {
      "cell_type": "code",
      "source": [
        "%%writefile no_solution_22.Text\n",
        "22\n",
        "1 1 1 1 1 1 1 1 1 1 1 1 1 1 1 1 1 1 1 1 1 23"
      ],
      "metadata": {
        "colab": {
          "base_uri": "https://localhost:8080/"
        },
        "id": "ydTs1NB0S2Yy",
        "outputId": "f404ce45-641a-4256-de7a-fc0f87173cf1"
      },
      "execution_count": 29,
      "outputs": [
        {
          "output_type": "stream",
          "name": "stdout",
          "text": [
            "Overwriting no_solution_22.Text\n"
          ]
        }
      ]
    },
    {
      "cell_type": "code",
      "source": [
        "%%writefile no_solution_23.Text\n",
        "23\n",
        "1 1 1 1 1 1 1 1 1 1 1 1 1 1 1 1 1 1 1 1 1 1 24"
      ],
      "metadata": {
        "colab": {
          "base_uri": "https://localhost:8080/"
        },
        "id": "CwDzERumS66y",
        "outputId": "9a3b6d59-2825-447c-e693-8d8ddc2743fb"
      },
      "execution_count": 30,
      "outputs": [
        {
          "output_type": "stream",
          "name": "stdout",
          "text": [
            "Overwriting no_solution_23.Text\n"
          ]
        }
      ]
    },
    {
      "cell_type": "markdown",
      "source": [
        "Now the code. The program will time its execution.\n",
        "It will print a possible solution and it will print how long did it take to find the solution."
      ],
      "metadata": {
        "id": "hvvEzTTdTGlS"
      }
    },
    {
      "cell_type": "code",
      "source": [
        "%%writefile partition.py\n",
        "#\n",
        "# Program to solve the partition problem\n",
        "# The program assumes that input redirection\n",
        "# can be used in COLAB\n",
        "from itertools import chain, combinations\n",
        "import time\n",
        "\n",
        "def powerset(iterable):\n",
        "    \"powerset([1,2,3]) --> () (1,) (2,) (3,) (1,2) (1,3) (2,3) (1,2,3)\"\n",
        "    s = list(iterable)\n",
        "    return chain.from_iterable(combinations(s, r) for r in range(len(s)+1))\n",
        "\n",
        "#\n",
        "# The assumed format of the test file is:\n",
        "# - one line with a positive integer that contains the number of positive integers\n",
        "# in the instance\n",
        "# - A line with the list of values\n",
        "#\n",
        "\n",
        "start = time.time()\n",
        "# Read the problem\n",
        "n = int(input())\n",
        "valuesString = input()\n",
        "values = valuesString.split()\n",
        "for i in range(len(values)):\n",
        "  values[i] = int(values[i])\n",
        "# Print the instance of the problem\n",
        "print(\"Problem size: \",n)\n",
        "print(\"Problem instance: \",values)\n",
        "\n",
        "sum_of_numbers = sum(values)\n",
        "if sum_of_numbers % 2 == 1:\n",
        "  print(\"This instance does not have a solution\")\n",
        "else:\n",
        "  power_set = powerset(values)\n",
        "  solution_found = False\n",
        "  for set in power_set:\n",
        "    if sum(set) == (sum_of_numbers//2):\n",
        "      print(\"Solution found!\")\n",
        "      print(\"One partition contains: \",set)\n",
        "      solution_found = True\n",
        "      break\n",
        "  if solution_found == False:\n",
        "    print(\"This instance does not have a solution\")\n",
        "\n",
        "end = time.time()\n",
        "elapsed = end - start\n",
        "print(\"The program took: \",elapsed,\" seconds.\")\n",
        "print(\"--------------------------------------\")"
      ],
      "metadata": {
        "colab": {
          "base_uri": "https://localhost:8080/"
        },
        "id": "Su6qDWhMTFGD",
        "outputId": "1f0ec7f0-51a4-44d9-b40c-52886f114f38"
      },
      "execution_count": 27,
      "outputs": [
        {
          "output_type": "stream",
          "name": "stdout",
          "text": [
            "Overwriting partition.py\n"
          ]
        }
      ]
    },
    {
      "cell_type": "markdown",
      "source": [
        "Let's check the execution times for the instances with a solution."
      ],
      "metadata": {
        "id": "m3Gz_MMTTyKa"
      }
    },
    {
      "cell_type": "code",
      "source": [
        "!python partition.py < with_solution_20.Text\n",
        "!python partition.py < with_solution_21.Text\n",
        "!python partition.py < with_solution_22.Text\n",
        "!python partition.py < with_solution_23.Text"
      ],
      "metadata": {
        "colab": {
          "base_uri": "https://localhost:8080/"
        },
        "id": "wLUL3kQ4TUOK",
        "outputId": "2e68dcfd-1186-407d-9763-ca35e95ad488"
      },
      "execution_count": 28,
      "outputs": [
        {
          "output_type": "stream",
          "name": "stdout",
          "text": [
            "Problem size:  20\n",
            "Problem instance:  [1, 1, 1, 1, 1, 1, 1, 1, 1, 1, 1, 1, 1, 1, 1, 1, 1, 1, 1, 19]\n",
            "Solution found!\n",
            "One partition contains:  (19,)\n",
            "The program took:  0.0001461505889892578  seconds.\n",
            "--------------------------------------\n",
            "Problem size:  21\n",
            "Problem instance:  [1, 1, 1, 1, 1, 1, 1, 1, 1, 1, 1, 1, 1, 1, 1, 1, 1, 1, 1, 1, 20]\n",
            "Solution found!\n",
            "One partition contains:  (20,)\n",
            "The program took:  0.000141143798828125  seconds.\n",
            "--------------------------------------\n",
            "Problem size:  22\n",
            "Problem instance:  [1, 1, 1, 1, 1, 1, 1, 1, 1, 1, 1, 1, 1, 1, 1, 1, 1, 1, 1, 1, 1, 21]\n",
            "Solution found!\n",
            "One partition contains:  (21,)\n",
            "The program took:  0.00013017654418945312  seconds.\n",
            "--------------------------------------\n",
            "Problem size:  23\n",
            "Problem instance:  [1, 1, 1, 1, 1, 1, 1, 1, 1, 1, 1, 1, 1, 1, 1, 1, 1, 1, 1, 1, 1, 1, 22]\n",
            "Solution found!\n",
            "One partition contains:  (22,)\n",
            "The program took:  0.00013828277587890625  seconds.\n",
            "--------------------------------------\n"
          ]
        }
      ]
    },
    {
      "cell_type": "markdown",
      "source": [],
      "metadata": {
        "id": "tAOsiQvxUE-6"
      }
    },
    {
      "cell_type": "markdown",
      "source": [
        "Now let's check the execution times for the instances with no solution.\n"
      ],
      "metadata": {
        "id": "KSpX23DFT427"
      }
    },
    {
      "cell_type": "code",
      "source": [
        "!python partition.py < no_solution_20.Text\n",
        "!python partition.py < no_solution_21.Text\n",
        "!python partition.py < no_solution_22.Text\n",
        "!python partition.py < no_solution_23.Text"
      ],
      "metadata": {
        "colab": {
          "base_uri": "https://localhost:8080/"
        },
        "id": "xtjMHrcXT-sy",
        "outputId": "d3676be4-0dbd-4fa5-b899-5a9b6549ee2c"
      },
      "execution_count": 31,
      "outputs": [
        {
          "output_type": "stream",
          "name": "stdout",
          "text": [
            "Problem size:  20\n",
            "Problem instance:  [1, 1, 1, 1, 1, 1, 1, 1, 1, 1, 1, 1, 1, 1, 1, 1, 1, 1, 1, 21]\n",
            "This instance does not have a solution\n",
            "The program took:  0.3466324806213379  seconds.\n",
            "--------------------------------------\n",
            "Problem size:  21\n",
            "Problem instance:  [1, 1, 1, 1, 1, 1, 1, 1, 1, 1, 1, 1, 1, 1, 1, 1, 1, 1, 1, 1, 22]\n",
            "This instance does not have a solution\n",
            "The program took:  0.7532532215118408  seconds.\n",
            "--------------------------------------\n",
            "Problem size:  22\n",
            "Problem instance:  [1, 1, 1, 1, 1, 1, 1, 1, 1, 1, 1, 1, 1, 1, 1, 1, 1, 1, 1, 1, 1, 23]\n",
            "This instance does not have a solution\n",
            "The program took:  1.4748179912567139  seconds.\n",
            "--------------------------------------\n",
            "Problem size:  23\n",
            "Problem instance:  [1, 1, 1, 1, 1, 1, 1, 1, 1, 1, 1, 1, 1, 1, 1, 1, 1, 1, 1, 1, 1, 1, 24]\n",
            "This instance does not have a solution\n",
            "The program took:  3.5119290351867676  seconds.\n",
            "--------------------------------------\n"
          ]
        }
      ]
    },
    {
      "cell_type": "markdown",
      "source": [
        "# Profiling\n",
        "Now, let's use line profiling to see where the execution time is being spent.\n",
        "\n",
        "Install the line profiling library line_profiler"
      ],
      "metadata": {
        "id": "9VQwIb5tV9Aq"
      }
    },
    {
      "cell_type": "code",
      "source": [
        "!pip install line_profiler"
      ],
      "metadata": {
        "colab": {
          "base_uri": "https://localhost:8080/"
        },
        "id": "XdGGDNsqWJgS",
        "outputId": "35065188-59e9-41dc-eeb9-b70f10cf5917"
      },
      "execution_count": 32,
      "outputs": [
        {
          "output_type": "stream",
          "name": "stdout",
          "text": [
            "Collecting line_profiler\n",
            "  Downloading line_profiler-4.2.0-cp310-cp310-manylinux_2_17_x86_64.manylinux2014_x86_64.whl.metadata (34 kB)\n",
            "Downloading line_profiler-4.2.0-cp310-cp310-manylinux_2_17_x86_64.manylinux2014_x86_64.whl (718 kB)\n",
            "\u001b[2K   \u001b[90m━━━━━━━━━━━━━━━━━━━━━━━━━━━━━━━━━━━━━━━━\u001b[0m \u001b[32m718.3/718.3 kB\u001b[0m \u001b[31m12.0 MB/s\u001b[0m eta \u001b[36m0:00:00\u001b[0m\n",
            "\u001b[?25hInstalling collected packages: line_profiler\n",
            "Successfully installed line_profiler-4.2.0\n"
          ]
        }
      ]
    },
    {
      "cell_type": "markdown",
      "source": [
        "The code below is functionally the same as the previous code, but it has modified to profile the code that is looking for a solution by going through all the elements in the power set."
      ],
      "metadata": {
        "id": "EIFJ5pHDWNla"
      }
    },
    {
      "cell_type": "code",
      "source": [
        "%%writefile partition_profile.py\n",
        "#\n",
        "# Program to solve the partition problem\n",
        "# The program assumes that input redirection\n",
        "# can be used in COLAB\n",
        "from itertools import chain, combinations\n",
        "import time\n",
        "\n",
        "def powerset(iterable):\n",
        "    \"powerset([1,2,3]) --> () (1,) (2,) (3,) (1,2) (1,3) (2,3) (1,2,3)\"\n",
        "    s = list(iterable)\n",
        "    return chain.from_iterable(combinations(s, r) for r in range(len(s)+1))\n",
        "\n",
        "#\n",
        "# The assumed format of the test file is:\n",
        "# - one line with a positive integer that contains the number of positive integers\n",
        "# in the instance\n",
        "# - A line with the list of values\n",
        "#\n",
        "\n",
        "@profile\n",
        "def partition():\n",
        "  start_time = time.time()\n",
        "  # Read the problem\n",
        "  n = int(input())\n",
        "  valuesString = input()\n",
        "  values = valuesString.split()\n",
        "  for i in range(len(values)):\n",
        "    values[i] = int(values[i])\n",
        "  # Print the instance of the problem\n",
        "  print(\"Problem size: \",n)\n",
        "  print(\"Problem instance: \",values)\n",
        "\n",
        "  sum_of_numbers = sum(values)\n",
        "  if sum_of_numbers % 2 == 1:\n",
        "    print(\"This instance does not have a solution\")\n",
        "  else:\n",
        "    power_set = powerset(values)\n",
        "    solution_found = False\n",
        "    for set in power_set:\n",
        "      if sum(set) == (sum_of_numbers//2):\n",
        "        print(\"Solution found!\")\n",
        "        print(\"One partition contains: \",set)\n",
        "        solution_found = True\n",
        "        break\n",
        "    if solution_found == False:\n",
        "      print(\"This instance does not have a solution\")\n",
        "\n",
        "  end_time = time.time()\n",
        "  elapsed_time = end_time - start_time\n",
        "  print(\"The program took: \",elapsed_time,\" seconds.\")\n",
        "\n",
        "if __name__ == \"__main__\":\n",
        "  partition()"
      ],
      "metadata": {
        "colab": {
          "base_uri": "https://localhost:8080/"
        },
        "id": "dSPWbTJYWdRK",
        "outputId": "9b418590-ee64-4560-fac0-6f2a477bddfd"
      },
      "execution_count": 33,
      "outputs": [
        {
          "output_type": "stream",
          "name": "stdout",
          "text": [
            "Writing partition_profile.py\n"
          ]
        }
      ]
    },
    {
      "cell_type": "markdown",
      "source": [
        "Now, let's profile the execution of the test files with a solution.\n",
        "\n",
        "The key lines to examine are lines 39 and 40.\n",
        "The code has written so that as soon as a solution has been found, the program\n",
        "stops looking for other solutions."
      ],
      "metadata": {
        "id": "2b9-xTPPWilq"
      }
    },
    {
      "cell_type": "code",
      "source": [
        "!kernprof -l partition_profile.py < with_solution_20.Text"
      ],
      "metadata": {
        "colab": {
          "base_uri": "https://localhost:8080/"
        },
        "id": "dm96BWfZWp7a",
        "outputId": "4c29769b-45fd-47a6-dd95-91175ef8d2c5"
      },
      "execution_count": 34,
      "outputs": [
        {
          "output_type": "stream",
          "name": "stdout",
          "text": [
            "Problem size:  20\n",
            "Problem instance:  [1, 1, 1, 1, 1, 1, 1, 1, 1, 1, 1, 1, 1, 1, 1, 1, 1, 1, 1, 19]\n",
            "Solution found!\n",
            "One partition contains:  (19,)\n",
            "The program took:  0.0002129077911376953  seconds.\n",
            "Wrote profile results to partition_profile.py.lprof\n",
            "Inspect results with:\n",
            "python3 -m line_profiler -rmt \"partition_profile.py.lprof\"\n"
          ]
        }
      ]
    },
    {
      "cell_type": "code",
      "source": [
        "!python3 -m line_profiler -rmt \"partition_profile.py.lprof\""
      ],
      "metadata": {
        "colab": {
          "base_uri": "https://localhost:8080/"
        },
        "id": "hNmS5c2XWvlr",
        "outputId": "88264b8c-7e5e-4f79-f670-f6ce2ee07965"
      },
      "execution_count": 35,
      "outputs": [
        {
          "output_type": "stream",
          "name": "stdout",
          "text": [
            "Timer unit: 1e-06 s\n",
            "\n",
            "Total time: 0.000180965 s\n",
            "File: partition_profile.py\n",
            "Function: partition at line 20\n",
            "\n",
            "Line #      Hits         Time  Per Hit   % Time  Line Contents\n",
            "==============================================================\n",
            "    \u001b[1;36m20\u001b[0m                                           \u001b[92;49m@profile\u001b[0m                                           \n",
            "    \u001b[1;36m21\u001b[0m                                           \u001b[96;49mdef\u001b[0m\u001b[97;49m \u001b[0m\u001b[92;49mpartition\u001b[0m\u001b[97;49m(\u001b[0m\u001b[97;49m)\u001b[0m\u001b[97;49m:\u001b[0m                                   \n",
            "    \u001b[1;36m22\u001b[0m         \u001b[1;36m1\u001b[0m          \u001b[1;36m2.3\u001b[0m      \u001b[1;36m2.3\u001b[0m      \u001b[1;36m1.3\u001b[0m  \u001b[97;49m  \u001b[0m\u001b[97;49mstart_time\u001b[0m\u001b[97;49m \u001b[0m\u001b[91;49m=\u001b[0m\u001b[97;49m \u001b[0m\u001b[97;49mtime\u001b[0m\u001b[91;49m.\u001b[0m\u001b[97;49mtime\u001b[0m\u001b[97;49m(\u001b[0m\u001b[97;49m)\u001b[0m                         \n",
            "    \u001b[1;36m23\u001b[0m                                           \u001b[97;49m  \u001b[0m\u001b[37;49m# Read the problem\u001b[0m                               \n",
            "    \u001b[1;36m24\u001b[0m         \u001b[1;36m1\u001b[0m         \u001b[1;36m38.1\u001b[0m     \u001b[1;36m38.1\u001b[0m     \u001b[1;36m21.0\u001b[0m  \u001b[97;49m  \u001b[0m\u001b[97;49mn\u001b[0m\u001b[97;49m \u001b[0m\u001b[91;49m=\u001b[0m\u001b[97;49m \u001b[0m\u001b[97;49mint\u001b[0m\u001b[97;49m(\u001b[0m\u001b[97;49minput\u001b[0m\u001b[97;49m(\u001b[0m\u001b[97;49m)\u001b[0m\u001b[97;49m)\u001b[0m                                 \n",
            "    \u001b[1;36m25\u001b[0m         \u001b[1;36m1\u001b[0m          \u001b[1;36m2.1\u001b[0m      \u001b[1;36m2.1\u001b[0m      \u001b[1;36m1.2\u001b[0m  \u001b[97;49m  \u001b[0m\u001b[97;49mvaluesString\u001b[0m\u001b[97;49m \u001b[0m\u001b[91;49m=\u001b[0m\u001b[97;49m \u001b[0m\u001b[97;49minput\u001b[0m\u001b[97;49m(\u001b[0m\u001b[97;49m)\u001b[0m                           \n",
            "    \u001b[1;36m26\u001b[0m         \u001b[1;36m1\u001b[0m          \u001b[1;36m2.2\u001b[0m      \u001b[1;36m2.2\u001b[0m      \u001b[1;36m1.2\u001b[0m  \u001b[97;49m  \u001b[0m\u001b[97;49mvalues\u001b[0m\u001b[97;49m \u001b[0m\u001b[91;49m=\u001b[0m\u001b[97;49m \u001b[0m\u001b[97;49mvaluesString\u001b[0m\u001b[91;49m.\u001b[0m\u001b[97;49msplit\u001b[0m\u001b[97;49m(\u001b[0m\u001b[97;49m)\u001b[0m                    \n",
            "    \u001b[1;36m27\u001b[0m        \u001b[1;36m21\u001b[0m          \u001b[1;36m6.7\u001b[0m      \u001b[1;36m0.3\u001b[0m      \u001b[1;36m3.7\u001b[0m  \u001b[97;49m  \u001b[0m\u001b[96;49mfor\u001b[0m\u001b[97;49m \u001b[0m\u001b[97;49mi\u001b[0m\u001b[97;49m \u001b[0m\u001b[91;49min\u001b[0m\u001b[97;49m \u001b[0m\u001b[97;49mrange\u001b[0m\u001b[97;49m(\u001b[0m\u001b[97;49mlen\u001b[0m\u001b[97;49m(\u001b[0m\u001b[97;49mvalues\u001b[0m\u001b[97;49m)\u001b[0m\u001b[97;49m)\u001b[0m\u001b[97;49m:\u001b[0m                     \n",
            "    \u001b[1;36m28\u001b[0m        \u001b[1;36m20\u001b[0m         \u001b[1;36m10.4\u001b[0m      \u001b[1;36m0.5\u001b[0m      \u001b[1;36m5.8\u001b[0m  \u001b[97;49m    \u001b[0m\u001b[97;49mvalues\u001b[0m\u001b[97;49m[\u001b[0m\u001b[97;49mi\u001b[0m\u001b[97;49m]\u001b[0m\u001b[97;49m \u001b[0m\u001b[91;49m=\u001b[0m\u001b[97;49m \u001b[0m\u001b[97;49mint\u001b[0m\u001b[97;49m(\u001b[0m\u001b[97;49mvalues\u001b[0m\u001b[97;49m[\u001b[0m\u001b[97;49mi\u001b[0m\u001b[97;49m]\u001b[0m\u001b[97;49m)\u001b[0m                     \n",
            "    \u001b[1;36m29\u001b[0m                                           \u001b[97;49m  \u001b[0m\u001b[37;49m# Print the instance of the problem\u001b[0m              \n",
            "    \u001b[1;36m30\u001b[0m         \u001b[1;36m1\u001b[0m         \u001b[1;36m27.5\u001b[0m     \u001b[1;36m27.5\u001b[0m     \u001b[1;36m15.2\u001b[0m  \u001b[97;49m  \u001b[0m\u001b[97;49mprint\u001b[0m\u001b[97;49m(\u001b[0m\u001b[93;49m\"\u001b[0m\u001b[93;49mProblem size: \u001b[0m\u001b[93;49m\"\u001b[0m\u001b[97;49m,\u001b[0m\u001b[97;49mn\u001b[0m\u001b[97;49m)\u001b[0m                        \n",
            "    \u001b[1;36m31\u001b[0m         \u001b[1;36m1\u001b[0m         \u001b[1;36m12.5\u001b[0m     \u001b[1;36m12.5\u001b[0m      \u001b[1;36m6.9\u001b[0m  \u001b[97;49m  \u001b[0m\u001b[97;49mprint\u001b[0m\u001b[97;49m(\u001b[0m\u001b[93;49m\"\u001b[0m\u001b[93;49mProblem instance: \u001b[0m\u001b[93;49m\"\u001b[0m\u001b[97;49m,\u001b[0m\u001b[97;49mvalues\u001b[0m\u001b[97;49m)\u001b[0m               \n",
            "    \u001b[1;36m32\u001b[0m                                                                                              \n",
            "    \u001b[1;36m33\u001b[0m         \u001b[1;36m1\u001b[0m          \u001b[1;36m1.7\u001b[0m      \u001b[1;36m1.7\u001b[0m      \u001b[1;36m0.9\u001b[0m  \u001b[97;49m  \u001b[0m\u001b[97;49msum_of_numbers\u001b[0m\u001b[97;49m \u001b[0m\u001b[91;49m=\u001b[0m\u001b[97;49m \u001b[0m\u001b[97;49msum\u001b[0m\u001b[97;49m(\u001b[0m\u001b[97;49mvalues\u001b[0m\u001b[97;49m)\u001b[0m                     \n",
            "    \u001b[1;36m34\u001b[0m         \u001b[1;36m1\u001b[0m          \u001b[1;36m0.9\u001b[0m      \u001b[1;36m0.9\u001b[0m      \u001b[1;36m0.5\u001b[0m  \u001b[97;49m  \u001b[0m\u001b[96;49mif\u001b[0m\u001b[97;49m \u001b[0m\u001b[97;49msum_of_numbers\u001b[0m\u001b[97;49m \u001b[0m\u001b[91;49m%\u001b[0m\u001b[97;49m \u001b[0m\u001b[37;49m2\u001b[0m\u001b[97;49m \u001b[0m\u001b[91;49m==\u001b[0m\u001b[97;49m \u001b[0m\u001b[37;49m1\u001b[0m\u001b[97;49m:\u001b[0m                      \n",
            "    \u001b[1;36m35\u001b[0m                                           \u001b[97;49m    \u001b[0m\u001b[97;49mprint\u001b[0m\u001b[97;49m(\u001b[0m\u001b[93;49m\"\u001b[0m\u001b[93;49mThis instance does not have a solution\u001b[0m\u001b[93;49m\"\u001b[0m\u001b[97;49m)\u001b[0m\n",
            "    \u001b[1;36m36\u001b[0m                                           \u001b[97;49m  \u001b[0m\u001b[96;49melse\u001b[0m\u001b[97;49m:\u001b[0m                                            \n",
            "    \u001b[1;36m37\u001b[0m         \u001b[1;36m1\u001b[0m          \u001b[1;36m7.8\u001b[0m      \u001b[1;36m7.8\u001b[0m      \u001b[1;36m4.3\u001b[0m  \u001b[97;49m    \u001b[0m\u001b[97;49mpower_set\u001b[0m\u001b[97;49m \u001b[0m\u001b[91;49m=\u001b[0m\u001b[97;49m \u001b[0m\u001b[97;49mpowerset\u001b[0m\u001b[97;49m(\u001b[0m\u001b[97;49mvalues\u001b[0m\u001b[97;49m)\u001b[0m                   \n",
            "    \u001b[1;36m38\u001b[0m         \u001b[1;36m1\u001b[0m          \u001b[1;36m0.3\u001b[0m      \u001b[1;36m0.3\u001b[0m      \u001b[1;36m0.1\u001b[0m  \u001b[97;49m    \u001b[0m\u001b[97;49msolution_found\u001b[0m\u001b[97;49m \u001b[0m\u001b[91;49m=\u001b[0m\u001b[97;49m \u001b[0m\u001b[96;49mFalse\u001b[0m                         \n",
            "    \u001b[1;36m39\u001b[0m        \u001b[1;36m21\u001b[0m         \u001b[1;36m16.9\u001b[0m      \u001b[1;36m0.8\u001b[0m      \u001b[1;36m9.3\u001b[0m  \u001b[97;49m    \u001b[0m\u001b[96;49mfor\u001b[0m\u001b[97;49m \u001b[0m\u001b[97;49mset\u001b[0m\u001b[97;49m \u001b[0m\u001b[91;49min\u001b[0m\u001b[97;49m \u001b[0m\u001b[97;49mpower_set\u001b[0m\u001b[97;49m:\u001b[0m                          \n",
            "    \u001b[1;36m40\u001b[0m        \u001b[1;36m21\u001b[0m         \u001b[1;36m14.1\u001b[0m      \u001b[1;36m0.7\u001b[0m      \u001b[1;36m7.8\u001b[0m  \u001b[97;49m      \u001b[0m\u001b[96;49mif\u001b[0m\u001b[97;49m \u001b[0m\u001b[97;49msum\u001b[0m\u001b[97;49m(\u001b[0m\u001b[97;49mset\u001b[0m\u001b[97;49m)\u001b[0m\u001b[97;49m \u001b[0m\u001b[91;49m==\u001b[0m\u001b[97;49m \u001b[0m\u001b[97;49m(\u001b[0m\u001b[97;49msum_of_numbers\u001b[0m\u001b[91;49m/\u001b[0m\u001b[91;49m/\u001b[0m\u001b[37;49m2\u001b[0m\u001b[97;49m)\u001b[0m\u001b[97;49m:\u001b[0m          \n",
            "    \u001b[1;36m41\u001b[0m         \u001b[1;36m1\u001b[0m          \u001b[1;36m9.0\u001b[0m      \u001b[1;36m9.0\u001b[0m      \u001b[1;36m5.0\u001b[0m  \u001b[97;49m        \u001b[0m\u001b[97;49mprint\u001b[0m\u001b[97;49m(\u001b[0m\u001b[93;49m\"\u001b[0m\u001b[93;49mSolution found!\u001b[0m\u001b[93;49m\"\u001b[0m\u001b[97;49m)\u001b[0m                   \n",
            "    \u001b[1;36m42\u001b[0m         \u001b[1;36m1\u001b[0m          \u001b[1;36m8.0\u001b[0m      \u001b[1;36m8.0\u001b[0m      \u001b[1;36m4.4\u001b[0m  \u001b[97;49m        \u001b[0m\u001b[97;49mprint\u001b[0m\u001b[97;49m(\u001b[0m\u001b[93;49m\"\u001b[0m\u001b[93;49mOne partition contains: \u001b[0m\u001b[93;49m\"\u001b[0m\u001b[97;49m,\u001b[0m\u001b[97;49mset\u001b[0m\u001b[97;49m)\u001b[0m      \n",
            "    \u001b[1;36m43\u001b[0m         \u001b[1;36m1\u001b[0m          \u001b[1;36m0.3\u001b[0m      \u001b[1;36m0.3\u001b[0m      \u001b[1;36m0.2\u001b[0m  \u001b[97;49m        \u001b[0m\u001b[97;49msolution_found\u001b[0m\u001b[97;49m \u001b[0m\u001b[91;49m=\u001b[0m\u001b[97;49m \u001b[0m\u001b[96;49mTrue\u001b[0m                      \n",
            "    \u001b[1;36m44\u001b[0m         \u001b[1;36m1\u001b[0m          \u001b[1;36m0.3\u001b[0m      \u001b[1;36m0.3\u001b[0m      \u001b[1;36m0.2\u001b[0m  \u001b[97;49m        \u001b[0m\u001b[96;49mbreak\u001b[0m                                      \n",
            "    \u001b[1;36m45\u001b[0m         \u001b[1;36m1\u001b[0m          \u001b[1;36m0.5\u001b[0m      \u001b[1;36m0.5\u001b[0m      \u001b[1;36m0.3\u001b[0m  \u001b[97;49m    \u001b[0m\u001b[96;49mif\u001b[0m\u001b[97;49m \u001b[0m\u001b[97;49msolution_found\u001b[0m\u001b[97;49m \u001b[0m\u001b[91;49m==\u001b[0m\u001b[97;49m \u001b[0m\u001b[96;49mFalse\u001b[0m\u001b[97;49m:\u001b[0m                    \n",
            "    \u001b[1;36m46\u001b[0m                                           \u001b[97;49m      \u001b[0m\u001b[97;49mprint\u001b[0m\u001b[97;49m(\u001b[0m\u001b[93;49m\"\u001b[0m\u001b[93;49mThis instance does not have a solutio…\u001b[0m\n",
            "    \u001b[1;36m47\u001b[0m                                                                                              \n",
            "    \u001b[1;36m48\u001b[0m         \u001b[1;36m1\u001b[0m          \u001b[1;36m1.0\u001b[0m      \u001b[1;36m1.0\u001b[0m      \u001b[1;36m0.6\u001b[0m  \u001b[97;49m  \u001b[0m\u001b[97;49mend_time\u001b[0m\u001b[97;49m \u001b[0m\u001b[91;49m=\u001b[0m\u001b[97;49m \u001b[0m\u001b[97;49mtime\u001b[0m\u001b[91;49m.\u001b[0m\u001b[97;49mtime\u001b[0m\u001b[97;49m(\u001b[0m\u001b[97;49m)\u001b[0m                           \n",
            "    \u001b[1;36m49\u001b[0m         \u001b[1;36m1\u001b[0m          \u001b[1;36m0.7\u001b[0m      \u001b[1;36m0.7\u001b[0m      \u001b[1;36m0.4\u001b[0m  \u001b[97;49m  \u001b[0m\u001b[97;49melapsed_time\u001b[0m\u001b[97;49m \u001b[0m\u001b[91;49m=\u001b[0m\u001b[97;49m \u001b[0m\u001b[97;49mend_time\u001b[0m\u001b[97;49m \u001b[0m\u001b[91;49m-\u001b[0m\u001b[97;49m \u001b[0m\u001b[97;49mstart_time\u001b[0m             \n",
            "    \u001b[1;36m50\u001b[0m         \u001b[1;36m1\u001b[0m         \u001b[1;36m17.7\u001b[0m     \u001b[1;36m17.7\u001b[0m      \u001b[1;36m9.8\u001b[0m  \u001b[97;49m  \u001b[0m\u001b[97;49mprint\u001b[0m\u001b[97;49m(\u001b[0m\u001b[93;49m\"\u001b[0m\u001b[93;49mThe program took: \u001b[0m\u001b[93;49m\"\u001b[0m\u001b[97;49m,\u001b[0m\u001b[97;49melapsed_time\u001b[0m\u001b[97;49m,\u001b[0m\u001b[93;49m\"\u001b[0m\u001b[93;49m second…\u001b[0m\n",
            "\n",
            "\n",
            "  0.00 seconds - partition_profile.py:20 - partition\n"
          ]
        }
      ]
    },
    {
      "cell_type": "code",
      "source": [
        "!kernprof -l partition_profile.py < with_solution_21.Text"
      ],
      "metadata": {
        "colab": {
          "base_uri": "https://localhost:8080/"
        },
        "id": "eggKCd1lXKOC",
        "outputId": "a3b0b6c4-95fc-4e63-c4f4-0d60d4395ff4"
      },
      "execution_count": 36,
      "outputs": [
        {
          "output_type": "stream",
          "name": "stdout",
          "text": [
            "Problem size:  21\n",
            "Problem instance:  [1, 1, 1, 1, 1, 1, 1, 1, 1, 1, 1, 1, 1, 1, 1, 1, 1, 1, 1, 1, 20]\n",
            "Solution found!\n",
            "One partition contains:  (20,)\n",
            "The program took:  0.0002300739288330078  seconds.\n",
            "Wrote profile results to partition_profile.py.lprof\n",
            "Inspect results with:\n",
            "python3 -m line_profiler -rmt \"partition_profile.py.lprof\"\n"
          ]
        }
      ]
    },
    {
      "cell_type": "code",
      "source": [
        "!python3 -m line_profiler -rmt \"partition_profile.py.lprof\""
      ],
      "metadata": {
        "colab": {
          "base_uri": "https://localhost:8080/"
        },
        "id": "vQOoufVYXOSS",
        "outputId": "8efc44d2-0eb8-4fd2-9568-40c82a7d38d6"
      },
      "execution_count": 37,
      "outputs": [
        {
          "output_type": "stream",
          "name": "stdout",
          "text": [
            "Timer unit: 1e-06 s\n",
            "\n",
            "Total time: 0.000194026 s\n",
            "File: partition_profile.py\n",
            "Function: partition at line 20\n",
            "\n",
            "Line #      Hits         Time  Per Hit   % Time  Line Contents\n",
            "==============================================================\n",
            "    \u001b[1;36m20\u001b[0m                                           \u001b[92;49m@profile\u001b[0m                                           \n",
            "    \u001b[1;36m21\u001b[0m                                           \u001b[96;49mdef\u001b[0m\u001b[97;49m \u001b[0m\u001b[92;49mpartition\u001b[0m\u001b[97;49m(\u001b[0m\u001b[97;49m)\u001b[0m\u001b[97;49m:\u001b[0m                                   \n",
            "    \u001b[1;36m22\u001b[0m         \u001b[1;36m1\u001b[0m          \u001b[1;36m2.6\u001b[0m      \u001b[1;36m2.6\u001b[0m      \u001b[1;36m1.4\u001b[0m  \u001b[97;49m  \u001b[0m\u001b[97;49mstart_time\u001b[0m\u001b[97;49m \u001b[0m\u001b[91;49m=\u001b[0m\u001b[97;49m \u001b[0m\u001b[97;49mtime\u001b[0m\u001b[91;49m.\u001b[0m\u001b[97;49mtime\u001b[0m\u001b[97;49m(\u001b[0m\u001b[97;49m)\u001b[0m                         \n",
            "    \u001b[1;36m23\u001b[0m                                           \u001b[97;49m  \u001b[0m\u001b[37;49m# Read the problem\u001b[0m                               \n",
            "    \u001b[1;36m24\u001b[0m         \u001b[1;36m1\u001b[0m         \u001b[1;36m36.5\u001b[0m     \u001b[1;36m36.5\u001b[0m     \u001b[1;36m18.8\u001b[0m  \u001b[97;49m  \u001b[0m\u001b[97;49mn\u001b[0m\u001b[97;49m \u001b[0m\u001b[91;49m=\u001b[0m\u001b[97;49m \u001b[0m\u001b[97;49mint\u001b[0m\u001b[97;49m(\u001b[0m\u001b[97;49minput\u001b[0m\u001b[97;49m(\u001b[0m\u001b[97;49m)\u001b[0m\u001b[97;49m)\u001b[0m                                 \n",
            "    \u001b[1;36m25\u001b[0m         \u001b[1;36m1\u001b[0m          \u001b[1;36m2.1\u001b[0m      \u001b[1;36m2.1\u001b[0m      \u001b[1;36m1.1\u001b[0m  \u001b[97;49m  \u001b[0m\u001b[97;49mvaluesString\u001b[0m\u001b[97;49m \u001b[0m\u001b[91;49m=\u001b[0m\u001b[97;49m \u001b[0m\u001b[97;49minput\u001b[0m\u001b[97;49m(\u001b[0m\u001b[97;49m)\u001b[0m                           \n",
            "    \u001b[1;36m26\u001b[0m         \u001b[1;36m1\u001b[0m          \u001b[1;36m2.7\u001b[0m      \u001b[1;36m2.7\u001b[0m      \u001b[1;36m1.4\u001b[0m  \u001b[97;49m  \u001b[0m\u001b[97;49mvalues\u001b[0m\u001b[97;49m \u001b[0m\u001b[91;49m=\u001b[0m\u001b[97;49m \u001b[0m\u001b[97;49mvaluesString\u001b[0m\u001b[91;49m.\u001b[0m\u001b[97;49msplit\u001b[0m\u001b[97;49m(\u001b[0m\u001b[97;49m)\u001b[0m                    \n",
            "    \u001b[1;36m27\u001b[0m        \u001b[1;36m22\u001b[0m          \u001b[1;36m6.8\u001b[0m      \u001b[1;36m0.3\u001b[0m      \u001b[1;36m3.5\u001b[0m  \u001b[97;49m  \u001b[0m\u001b[96;49mfor\u001b[0m\u001b[97;49m \u001b[0m\u001b[97;49mi\u001b[0m\u001b[97;49m \u001b[0m\u001b[91;49min\u001b[0m\u001b[97;49m \u001b[0m\u001b[97;49mrange\u001b[0m\u001b[97;49m(\u001b[0m\u001b[97;49mlen\u001b[0m\u001b[97;49m(\u001b[0m\u001b[97;49mvalues\u001b[0m\u001b[97;49m)\u001b[0m\u001b[97;49m)\u001b[0m\u001b[97;49m:\u001b[0m                     \n",
            "    \u001b[1;36m28\u001b[0m        \u001b[1;36m21\u001b[0m         \u001b[1;36m10.8\u001b[0m      \u001b[1;36m0.5\u001b[0m      \u001b[1;36m5.6\u001b[0m  \u001b[97;49m    \u001b[0m\u001b[97;49mvalues\u001b[0m\u001b[97;49m[\u001b[0m\u001b[97;49mi\u001b[0m\u001b[97;49m]\u001b[0m\u001b[97;49m \u001b[0m\u001b[91;49m=\u001b[0m\u001b[97;49m \u001b[0m\u001b[97;49mint\u001b[0m\u001b[97;49m(\u001b[0m\u001b[97;49mvalues\u001b[0m\u001b[97;49m[\u001b[0m\u001b[97;49mi\u001b[0m\u001b[97;49m]\u001b[0m\u001b[97;49m)\u001b[0m                     \n",
            "    \u001b[1;36m29\u001b[0m                                           \u001b[97;49m  \u001b[0m\u001b[37;49m# Print the instance of the problem\u001b[0m              \n",
            "    \u001b[1;36m30\u001b[0m         \u001b[1;36m1\u001b[0m         \u001b[1;36m26.8\u001b[0m     \u001b[1;36m26.8\u001b[0m     \u001b[1;36m13.8\u001b[0m  \u001b[97;49m  \u001b[0m\u001b[97;49mprint\u001b[0m\u001b[97;49m(\u001b[0m\u001b[93;49m\"\u001b[0m\u001b[93;49mProblem size: \u001b[0m\u001b[93;49m\"\u001b[0m\u001b[97;49m,\u001b[0m\u001b[97;49mn\u001b[0m\u001b[97;49m)\u001b[0m                        \n",
            "    \u001b[1;36m31\u001b[0m         \u001b[1;36m1\u001b[0m         \u001b[1;36m12.9\u001b[0m     \u001b[1;36m12.9\u001b[0m      \u001b[1;36m6.6\u001b[0m  \u001b[97;49m  \u001b[0m\u001b[97;49mprint\u001b[0m\u001b[97;49m(\u001b[0m\u001b[93;49m\"\u001b[0m\u001b[93;49mProblem instance: \u001b[0m\u001b[93;49m\"\u001b[0m\u001b[97;49m,\u001b[0m\u001b[97;49mvalues\u001b[0m\u001b[97;49m)\u001b[0m               \n",
            "    \u001b[1;36m32\u001b[0m                                                                                              \n",
            "    \u001b[1;36m33\u001b[0m         \u001b[1;36m1\u001b[0m          \u001b[1;36m1.8\u001b[0m      \u001b[1;36m1.8\u001b[0m      \u001b[1;36m0.9\u001b[0m  \u001b[97;49m  \u001b[0m\u001b[97;49msum_of_numbers\u001b[0m\u001b[97;49m \u001b[0m\u001b[91;49m=\u001b[0m\u001b[97;49m \u001b[0m\u001b[97;49msum\u001b[0m\u001b[97;49m(\u001b[0m\u001b[97;49mvalues\u001b[0m\u001b[97;49m)\u001b[0m                     \n",
            "    \u001b[1;36m34\u001b[0m         \u001b[1;36m1\u001b[0m          \u001b[1;36m1.2\u001b[0m      \u001b[1;36m1.2\u001b[0m      \u001b[1;36m0.6\u001b[0m  \u001b[97;49m  \u001b[0m\u001b[96;49mif\u001b[0m\u001b[97;49m \u001b[0m\u001b[97;49msum_of_numbers\u001b[0m\u001b[97;49m \u001b[0m\u001b[91;49m%\u001b[0m\u001b[97;49m \u001b[0m\u001b[37;49m2\u001b[0m\u001b[97;49m \u001b[0m\u001b[91;49m==\u001b[0m\u001b[97;49m \u001b[0m\u001b[37;49m1\u001b[0m\u001b[97;49m:\u001b[0m                      \n",
            "    \u001b[1;36m35\u001b[0m                                           \u001b[97;49m    \u001b[0m\u001b[97;49mprint\u001b[0m\u001b[97;49m(\u001b[0m\u001b[93;49m\"\u001b[0m\u001b[93;49mThis instance does not have a solution\u001b[0m\u001b[93;49m\"\u001b[0m\u001b[97;49m)\u001b[0m\n",
            "    \u001b[1;36m36\u001b[0m                                           \u001b[97;49m  \u001b[0m\u001b[96;49melse\u001b[0m\u001b[97;49m:\u001b[0m                                            \n",
            "    \u001b[1;36m37\u001b[0m         \u001b[1;36m1\u001b[0m          \u001b[1;36m8.5\u001b[0m      \u001b[1;36m8.5\u001b[0m      \u001b[1;36m4.4\u001b[0m  \u001b[97;49m    \u001b[0m\u001b[97;49mpower_set\u001b[0m\u001b[97;49m \u001b[0m\u001b[91;49m=\u001b[0m\u001b[97;49m \u001b[0m\u001b[97;49mpowerset\u001b[0m\u001b[97;49m(\u001b[0m\u001b[97;49mvalues\u001b[0m\u001b[97;49m)\u001b[0m                   \n",
            "    \u001b[1;36m38\u001b[0m         \u001b[1;36m1\u001b[0m          \u001b[1;36m0.3\u001b[0m      \u001b[1;36m0.3\u001b[0m      \u001b[1;36m0.1\u001b[0m  \u001b[97;49m    \u001b[0m\u001b[97;49msolution_found\u001b[0m\u001b[97;49m \u001b[0m\u001b[91;49m=\u001b[0m\u001b[97;49m \u001b[0m\u001b[96;49mFalse\u001b[0m                         \n",
            "    \u001b[1;36m39\u001b[0m        \u001b[1;36m22\u001b[0m         \u001b[1;36m17.8\u001b[0m      \u001b[1;36m0.8\u001b[0m      \u001b[1;36m9.2\u001b[0m  \u001b[97;49m    \u001b[0m\u001b[96;49mfor\u001b[0m\u001b[97;49m \u001b[0m\u001b[97;49mset\u001b[0m\u001b[97;49m \u001b[0m\u001b[91;49min\u001b[0m\u001b[97;49m \u001b[0m\u001b[97;49mpower_set\u001b[0m\u001b[97;49m:\u001b[0m                          \n",
            "    \u001b[1;36m40\u001b[0m        \u001b[1;36m22\u001b[0m         \u001b[1;36m14.2\u001b[0m      \u001b[1;36m0.6\u001b[0m      \u001b[1;36m7.3\u001b[0m  \u001b[97;49m      \u001b[0m\u001b[96;49mif\u001b[0m\u001b[97;49m \u001b[0m\u001b[97;49msum\u001b[0m\u001b[97;49m(\u001b[0m\u001b[97;49mset\u001b[0m\u001b[97;49m)\u001b[0m\u001b[97;49m \u001b[0m\u001b[91;49m==\u001b[0m\u001b[97;49m \u001b[0m\u001b[97;49m(\u001b[0m\u001b[97;49msum_of_numbers\u001b[0m\u001b[91;49m/\u001b[0m\u001b[91;49m/\u001b[0m\u001b[37;49m2\u001b[0m\u001b[97;49m)\u001b[0m\u001b[97;49m:\u001b[0m          \n",
            "    \u001b[1;36m41\u001b[0m         \u001b[1;36m1\u001b[0m         \u001b[1;36m23.8\u001b[0m     \u001b[1;36m23.8\u001b[0m     \u001b[1;36m12.3\u001b[0m  \u001b[97;49m        \u001b[0m\u001b[97;49mprint\u001b[0m\u001b[97;49m(\u001b[0m\u001b[93;49m\"\u001b[0m\u001b[93;49mSolution found!\u001b[0m\u001b[93;49m\"\u001b[0m\u001b[97;49m)\u001b[0m                   \n",
            "    \u001b[1;36m42\u001b[0m         \u001b[1;36m1\u001b[0m          \u001b[1;36m6.7\u001b[0m      \u001b[1;36m6.7\u001b[0m      \u001b[1;36m3.5\u001b[0m  \u001b[97;49m        \u001b[0m\u001b[97;49mprint\u001b[0m\u001b[97;49m(\u001b[0m\u001b[93;49m\"\u001b[0m\u001b[93;49mOne partition contains: \u001b[0m\u001b[93;49m\"\u001b[0m\u001b[97;49m,\u001b[0m\u001b[97;49mset\u001b[0m\u001b[97;49m)\u001b[0m      \n",
            "    \u001b[1;36m43\u001b[0m         \u001b[1;36m1\u001b[0m          \u001b[1;36m0.3\u001b[0m      \u001b[1;36m0.3\u001b[0m      \u001b[1;36m0.1\u001b[0m  \u001b[97;49m        \u001b[0m\u001b[97;49msolution_found\u001b[0m\u001b[97;49m \u001b[0m\u001b[91;49m=\u001b[0m\u001b[97;49m \u001b[0m\u001b[96;49mTrue\u001b[0m                      \n",
            "    \u001b[1;36m44\u001b[0m         \u001b[1;36m1\u001b[0m          \u001b[1;36m0.5\u001b[0m      \u001b[1;36m0.5\u001b[0m      \u001b[1;36m0.2\u001b[0m  \u001b[97;49m        \u001b[0m\u001b[96;49mbreak\u001b[0m                                      \n",
            "    \u001b[1;36m45\u001b[0m         \u001b[1;36m1\u001b[0m          \u001b[1;36m0.5\u001b[0m      \u001b[1;36m0.5\u001b[0m      \u001b[1;36m0.3\u001b[0m  \u001b[97;49m    \u001b[0m\u001b[96;49mif\u001b[0m\u001b[97;49m \u001b[0m\u001b[97;49msolution_found\u001b[0m\u001b[97;49m \u001b[0m\u001b[91;49m==\u001b[0m\u001b[97;49m \u001b[0m\u001b[96;49mFalse\u001b[0m\u001b[97;49m:\u001b[0m                    \n",
            "    \u001b[1;36m46\u001b[0m                                           \u001b[97;49m      \u001b[0m\u001b[97;49mprint\u001b[0m\u001b[97;49m(\u001b[0m\u001b[93;49m\"\u001b[0m\u001b[93;49mThis instance does not have a solutio…\u001b[0m\n",
            "    \u001b[1;36m47\u001b[0m                                                                                              \n",
            "    \u001b[1;36m48\u001b[0m         \u001b[1;36m1\u001b[0m          \u001b[1;36m1.3\u001b[0m      \u001b[1;36m1.3\u001b[0m      \u001b[1;36m0.7\u001b[0m  \u001b[97;49m  \u001b[0m\u001b[97;49mend_time\u001b[0m\u001b[97;49m \u001b[0m\u001b[91;49m=\u001b[0m\u001b[97;49m \u001b[0m\u001b[97;49mtime\u001b[0m\u001b[91;49m.\u001b[0m\u001b[97;49mtime\u001b[0m\u001b[97;49m(\u001b[0m\u001b[97;49m)\u001b[0m                           \n",
            "    \u001b[1;36m49\u001b[0m         \u001b[1;36m1\u001b[0m          \u001b[1;36m0.8\u001b[0m      \u001b[1;36m0.8\u001b[0m      \u001b[1;36m0.4\u001b[0m  \u001b[97;49m  \u001b[0m\u001b[97;49melapsed_time\u001b[0m\u001b[97;49m \u001b[0m\u001b[91;49m=\u001b[0m\u001b[97;49m \u001b[0m\u001b[97;49mend_time\u001b[0m\u001b[97;49m \u001b[0m\u001b[91;49m-\u001b[0m\u001b[97;49m \u001b[0m\u001b[97;49mstart_time\u001b[0m             \n",
            "    \u001b[1;36m50\u001b[0m         \u001b[1;36m1\u001b[0m         \u001b[1;36m15.2\u001b[0m     \u001b[1;36m15.2\u001b[0m      \u001b[1;36m7.8\u001b[0m  \u001b[97;49m  \u001b[0m\u001b[97;49mprint\u001b[0m\u001b[97;49m(\u001b[0m\u001b[93;49m\"\u001b[0m\u001b[93;49mThe program took: \u001b[0m\u001b[93;49m\"\u001b[0m\u001b[97;49m,\u001b[0m\u001b[97;49melapsed_time\u001b[0m\u001b[97;49m,\u001b[0m\u001b[93;49m\"\u001b[0m\u001b[93;49m second…\u001b[0m\n",
            "\n",
            "\n",
            "  0.00 seconds - partition_profile.py:20 - partition\n"
          ]
        }
      ]
    },
    {
      "cell_type": "code",
      "source": [
        "!kernprof -l partition_profile.py < with_solution_22.Text\n"
      ],
      "metadata": {
        "colab": {
          "base_uri": "https://localhost:8080/"
        },
        "id": "tBngEUbDXUAS",
        "outputId": "32819259-2d72-4135-b489-a8cda4507281"
      },
      "execution_count": 38,
      "outputs": [
        {
          "output_type": "stream",
          "name": "stdout",
          "text": [
            "Problem size:  22\n",
            "Problem instance:  [1, 1, 1, 1, 1, 1, 1, 1, 1, 1, 1, 1, 1, 1, 1, 1, 1, 1, 1, 1, 1, 21]\n",
            "Solution found!\n",
            "One partition contains:  (21,)\n",
            "The program took:  0.00021314620971679688  seconds.\n",
            "Wrote profile results to partition_profile.py.lprof\n",
            "Inspect results with:\n",
            "python3 -m line_profiler -rmt \"partition_profile.py.lprof\"\n"
          ]
        }
      ]
    },
    {
      "cell_type": "code",
      "source": [
        "!python3 -m line_profiler -rmt \"partition_profile.py.lprof\""
      ],
      "metadata": {
        "colab": {
          "base_uri": "https://localhost:8080/"
        },
        "id": "UaSbCcReXZM6",
        "outputId": "e478ceb0-40b6-4a9e-9440-46cf46d9c8ab"
      },
      "execution_count": 39,
      "outputs": [
        {
          "output_type": "stream",
          "name": "stdout",
          "text": [
            "Timer unit: 1e-06 s\n",
            "\n",
            "Total time: 0.000178411 s\n",
            "File: partition_profile.py\n",
            "Function: partition at line 20\n",
            "\n",
            "Line #      Hits         Time  Per Hit   % Time  Line Contents\n",
            "==============================================================\n",
            "    \u001b[1;36m20\u001b[0m                                           \u001b[92;49m@profile\u001b[0m                                           \n",
            "    \u001b[1;36m21\u001b[0m                                           \u001b[96;49mdef\u001b[0m\u001b[97;49m \u001b[0m\u001b[92;49mpartition\u001b[0m\u001b[97;49m(\u001b[0m\u001b[97;49m)\u001b[0m\u001b[97;49m:\u001b[0m                                   \n",
            "    \u001b[1;36m22\u001b[0m         \u001b[1;36m1\u001b[0m          \u001b[1;36m2.3\u001b[0m      \u001b[1;36m2.3\u001b[0m      \u001b[1;36m1.3\u001b[0m  \u001b[97;49m  \u001b[0m\u001b[97;49mstart_time\u001b[0m\u001b[97;49m \u001b[0m\u001b[91;49m=\u001b[0m\u001b[97;49m \u001b[0m\u001b[97;49mtime\u001b[0m\u001b[91;49m.\u001b[0m\u001b[97;49mtime\u001b[0m\u001b[97;49m(\u001b[0m\u001b[97;49m)\u001b[0m                         \n",
            "    \u001b[1;36m23\u001b[0m                                           \u001b[97;49m  \u001b[0m\u001b[37;49m# Read the problem\u001b[0m                               \n",
            "    \u001b[1;36m24\u001b[0m         \u001b[1;36m1\u001b[0m         \u001b[1;36m35.4\u001b[0m     \u001b[1;36m35.4\u001b[0m     \u001b[1;36m19.8\u001b[0m  \u001b[97;49m  \u001b[0m\u001b[97;49mn\u001b[0m\u001b[97;49m \u001b[0m\u001b[91;49m=\u001b[0m\u001b[97;49m \u001b[0m\u001b[97;49mint\u001b[0m\u001b[97;49m(\u001b[0m\u001b[97;49minput\u001b[0m\u001b[97;49m(\u001b[0m\u001b[97;49m)\u001b[0m\u001b[97;49m)\u001b[0m                                 \n",
            "    \u001b[1;36m25\u001b[0m         \u001b[1;36m1\u001b[0m          \u001b[1;36m2.2\u001b[0m      \u001b[1;36m2.2\u001b[0m      \u001b[1;36m1.2\u001b[0m  \u001b[97;49m  \u001b[0m\u001b[97;49mvaluesString\u001b[0m\u001b[97;49m \u001b[0m\u001b[91;49m=\u001b[0m\u001b[97;49m \u001b[0m\u001b[97;49minput\u001b[0m\u001b[97;49m(\u001b[0m\u001b[97;49m)\u001b[0m                           \n",
            "    \u001b[1;36m26\u001b[0m         \u001b[1;36m1\u001b[0m          \u001b[1;36m3.0\u001b[0m      \u001b[1;36m3.0\u001b[0m      \u001b[1;36m1.7\u001b[0m  \u001b[97;49m  \u001b[0m\u001b[97;49mvalues\u001b[0m\u001b[97;49m \u001b[0m\u001b[91;49m=\u001b[0m\u001b[97;49m \u001b[0m\u001b[97;49mvaluesString\u001b[0m\u001b[91;49m.\u001b[0m\u001b[97;49msplit\u001b[0m\u001b[97;49m(\u001b[0m\u001b[97;49m)\u001b[0m                    \n",
            "    \u001b[1;36m27\u001b[0m        \u001b[1;36m23\u001b[0m          \u001b[1;36m7.2\u001b[0m      \u001b[1;36m0.3\u001b[0m      \u001b[1;36m4.1\u001b[0m  \u001b[97;49m  \u001b[0m\u001b[96;49mfor\u001b[0m\u001b[97;49m \u001b[0m\u001b[97;49mi\u001b[0m\u001b[97;49m \u001b[0m\u001b[91;49min\u001b[0m\u001b[97;49m \u001b[0m\u001b[97;49mrange\u001b[0m\u001b[97;49m(\u001b[0m\u001b[97;49mlen\u001b[0m\u001b[97;49m(\u001b[0m\u001b[97;49mvalues\u001b[0m\u001b[97;49m)\u001b[0m\u001b[97;49m)\u001b[0m\u001b[97;49m:\u001b[0m                     \n",
            "    \u001b[1;36m28\u001b[0m        \u001b[1;36m22\u001b[0m         \u001b[1;36m11.2\u001b[0m      \u001b[1;36m0.5\u001b[0m      \u001b[1;36m6.3\u001b[0m  \u001b[97;49m    \u001b[0m\u001b[97;49mvalues\u001b[0m\u001b[97;49m[\u001b[0m\u001b[97;49mi\u001b[0m\u001b[97;49m]\u001b[0m\u001b[97;49m \u001b[0m\u001b[91;49m=\u001b[0m\u001b[97;49m \u001b[0m\u001b[97;49mint\u001b[0m\u001b[97;49m(\u001b[0m\u001b[97;49mvalues\u001b[0m\u001b[97;49m[\u001b[0m\u001b[97;49mi\u001b[0m\u001b[97;49m]\u001b[0m\u001b[97;49m)\u001b[0m                     \n",
            "    \u001b[1;36m29\u001b[0m                                           \u001b[97;49m  \u001b[0m\u001b[37;49m# Print the instance of the problem\u001b[0m              \n",
            "    \u001b[1;36m30\u001b[0m         \u001b[1;36m1\u001b[0m         \u001b[1;36m25.4\u001b[0m     \u001b[1;36m25.4\u001b[0m     \u001b[1;36m14.2\u001b[0m  \u001b[97;49m  \u001b[0m\u001b[97;49mprint\u001b[0m\u001b[97;49m(\u001b[0m\u001b[93;49m\"\u001b[0m\u001b[93;49mProblem size: \u001b[0m\u001b[93;49m\"\u001b[0m\u001b[97;49m,\u001b[0m\u001b[97;49mn\u001b[0m\u001b[97;49m)\u001b[0m                        \n",
            "    \u001b[1;36m31\u001b[0m         \u001b[1;36m1\u001b[0m         \u001b[1;36m10.9\u001b[0m     \u001b[1;36m10.9\u001b[0m      \u001b[1;36m6.1\u001b[0m  \u001b[97;49m  \u001b[0m\u001b[97;49mprint\u001b[0m\u001b[97;49m(\u001b[0m\u001b[93;49m\"\u001b[0m\u001b[93;49mProblem instance: \u001b[0m\u001b[93;49m\"\u001b[0m\u001b[97;49m,\u001b[0m\u001b[97;49mvalues\u001b[0m\u001b[97;49m)\u001b[0m               \n",
            "    \u001b[1;36m32\u001b[0m                                                                                              \n",
            "    \u001b[1;36m33\u001b[0m         \u001b[1;36m1\u001b[0m          \u001b[1;36m2.1\u001b[0m      \u001b[1;36m2.1\u001b[0m      \u001b[1;36m1.2\u001b[0m  \u001b[97;49m  \u001b[0m\u001b[97;49msum_of_numbers\u001b[0m\u001b[97;49m \u001b[0m\u001b[91;49m=\u001b[0m\u001b[97;49m \u001b[0m\u001b[97;49msum\u001b[0m\u001b[97;49m(\u001b[0m\u001b[97;49mvalues\u001b[0m\u001b[97;49m)\u001b[0m                     \n",
            "    \u001b[1;36m34\u001b[0m         \u001b[1;36m1\u001b[0m          \u001b[1;36m0.8\u001b[0m      \u001b[1;36m0.8\u001b[0m      \u001b[1;36m0.5\u001b[0m  \u001b[97;49m  \u001b[0m\u001b[96;49mif\u001b[0m\u001b[97;49m \u001b[0m\u001b[97;49msum_of_numbers\u001b[0m\u001b[97;49m \u001b[0m\u001b[91;49m%\u001b[0m\u001b[97;49m \u001b[0m\u001b[37;49m2\u001b[0m\u001b[97;49m \u001b[0m\u001b[91;49m==\u001b[0m\u001b[97;49m \u001b[0m\u001b[37;49m1\u001b[0m\u001b[97;49m:\u001b[0m                      \n",
            "    \u001b[1;36m35\u001b[0m                                           \u001b[97;49m    \u001b[0m\u001b[97;49mprint\u001b[0m\u001b[97;49m(\u001b[0m\u001b[93;49m\"\u001b[0m\u001b[93;49mThis instance does not have a solution\u001b[0m\u001b[93;49m\"\u001b[0m\u001b[97;49m)\u001b[0m\n",
            "    \u001b[1;36m36\u001b[0m                                           \u001b[97;49m  \u001b[0m\u001b[96;49melse\u001b[0m\u001b[97;49m:\u001b[0m                                            \n",
            "    \u001b[1;36m37\u001b[0m         \u001b[1;36m1\u001b[0m          \u001b[1;36m8.0\u001b[0m      \u001b[1;36m8.0\u001b[0m      \u001b[1;36m4.5\u001b[0m  \u001b[97;49m    \u001b[0m\u001b[97;49mpower_set\u001b[0m\u001b[97;49m \u001b[0m\u001b[91;49m=\u001b[0m\u001b[97;49m \u001b[0m\u001b[97;49mpowerset\u001b[0m\u001b[97;49m(\u001b[0m\u001b[97;49mvalues\u001b[0m\u001b[97;49m)\u001b[0m                   \n",
            "    \u001b[1;36m38\u001b[0m         \u001b[1;36m1\u001b[0m          \u001b[1;36m0.3\u001b[0m      \u001b[1;36m0.3\u001b[0m      \u001b[1;36m0.1\u001b[0m  \u001b[97;49m    \u001b[0m\u001b[97;49msolution_found\u001b[0m\u001b[97;49m \u001b[0m\u001b[91;49m=\u001b[0m\u001b[97;49m \u001b[0m\u001b[96;49mFalse\u001b[0m                         \n",
            "    \u001b[1;36m39\u001b[0m        \u001b[1;36m23\u001b[0m         \u001b[1;36m18.3\u001b[0m      \u001b[1;36m0.8\u001b[0m     \u001b[1;36m10.3\u001b[0m  \u001b[97;49m    \u001b[0m\u001b[96;49mfor\u001b[0m\u001b[97;49m \u001b[0m\u001b[97;49mset\u001b[0m\u001b[97;49m \u001b[0m\u001b[91;49min\u001b[0m\u001b[97;49m \u001b[0m\u001b[97;49mpower_set\u001b[0m\u001b[97;49m:\u001b[0m                          \n",
            "    \u001b[1;36m40\u001b[0m        \u001b[1;36m23\u001b[0m         \u001b[1;36m15.4\u001b[0m      \u001b[1;36m0.7\u001b[0m      \u001b[1;36m8.6\u001b[0m  \u001b[97;49m      \u001b[0m\u001b[96;49mif\u001b[0m\u001b[97;49m \u001b[0m\u001b[97;49msum\u001b[0m\u001b[97;49m(\u001b[0m\u001b[97;49mset\u001b[0m\u001b[97;49m)\u001b[0m\u001b[97;49m \u001b[0m\u001b[91;49m==\u001b[0m\u001b[97;49m \u001b[0m\u001b[97;49m(\u001b[0m\u001b[97;49msum_of_numbers\u001b[0m\u001b[91;49m/\u001b[0m\u001b[91;49m/\u001b[0m\u001b[37;49m2\u001b[0m\u001b[97;49m)\u001b[0m\u001b[97;49m:\u001b[0m          \n",
            "    \u001b[1;36m41\u001b[0m         \u001b[1;36m1\u001b[0m          \u001b[1;36m9.9\u001b[0m      \u001b[1;36m9.9\u001b[0m      \u001b[1;36m5.5\u001b[0m  \u001b[97;49m        \u001b[0m\u001b[97;49mprint\u001b[0m\u001b[97;49m(\u001b[0m\u001b[93;49m\"\u001b[0m\u001b[93;49mSolution found!\u001b[0m\u001b[93;49m\"\u001b[0m\u001b[97;49m)\u001b[0m                   \n",
            "    \u001b[1;36m42\u001b[0m         \u001b[1;36m1\u001b[0m          \u001b[1;36m6.7\u001b[0m      \u001b[1;36m6.7\u001b[0m      \u001b[1;36m3.8\u001b[0m  \u001b[97;49m        \u001b[0m\u001b[97;49mprint\u001b[0m\u001b[97;49m(\u001b[0m\u001b[93;49m\"\u001b[0m\u001b[93;49mOne partition contains: \u001b[0m\u001b[93;49m\"\u001b[0m\u001b[97;49m,\u001b[0m\u001b[97;49mset\u001b[0m\u001b[97;49m)\u001b[0m      \n",
            "    \u001b[1;36m43\u001b[0m         \u001b[1;36m1\u001b[0m          \u001b[1;36m0.5\u001b[0m      \u001b[1;36m0.5\u001b[0m      \u001b[1;36m0.3\u001b[0m  \u001b[97;49m        \u001b[0m\u001b[97;49msolution_found\u001b[0m\u001b[97;49m \u001b[0m\u001b[91;49m=\u001b[0m\u001b[97;49m \u001b[0m\u001b[96;49mTrue\u001b[0m                      \n",
            "    \u001b[1;36m44\u001b[0m         \u001b[1;36m1\u001b[0m          \u001b[1;36m0.4\u001b[0m      \u001b[1;36m0.4\u001b[0m      \u001b[1;36m0.2\u001b[0m  \u001b[97;49m        \u001b[0m\u001b[96;49mbreak\u001b[0m                                      \n",
            "    \u001b[1;36m45\u001b[0m         \u001b[1;36m1\u001b[0m          \u001b[1;36m0.4\u001b[0m      \u001b[1;36m0.4\u001b[0m      \u001b[1;36m0.2\u001b[0m  \u001b[97;49m    \u001b[0m\u001b[96;49mif\u001b[0m\u001b[97;49m \u001b[0m\u001b[97;49msolution_found\u001b[0m\u001b[97;49m \u001b[0m\u001b[91;49m==\u001b[0m\u001b[97;49m \u001b[0m\u001b[96;49mFalse\u001b[0m\u001b[97;49m:\u001b[0m                    \n",
            "    \u001b[1;36m46\u001b[0m                                           \u001b[97;49m      \u001b[0m\u001b[97;49mprint\u001b[0m\u001b[97;49m(\u001b[0m\u001b[93;49m\"\u001b[0m\u001b[93;49mThis instance does not have a solutio…\u001b[0m\n",
            "    \u001b[1;36m47\u001b[0m                                                                                              \n",
            "    \u001b[1;36m48\u001b[0m         \u001b[1;36m1\u001b[0m          \u001b[1;36m1.2\u001b[0m      \u001b[1;36m1.2\u001b[0m      \u001b[1;36m0.7\u001b[0m  \u001b[97;49m  \u001b[0m\u001b[97;49mend_time\u001b[0m\u001b[97;49m \u001b[0m\u001b[91;49m=\u001b[0m\u001b[97;49m \u001b[0m\u001b[97;49mtime\u001b[0m\u001b[91;49m.\u001b[0m\u001b[97;49mtime\u001b[0m\u001b[97;49m(\u001b[0m\u001b[97;49m)\u001b[0m                           \n",
            "    \u001b[1;36m49\u001b[0m         \u001b[1;36m1\u001b[0m          \u001b[1;36m0.6\u001b[0m      \u001b[1;36m0.6\u001b[0m      \u001b[1;36m0.4\u001b[0m  \u001b[97;49m  \u001b[0m\u001b[97;49melapsed_time\u001b[0m\u001b[97;49m \u001b[0m\u001b[91;49m=\u001b[0m\u001b[97;49m \u001b[0m\u001b[97;49mend_time\u001b[0m\u001b[97;49m \u001b[0m\u001b[91;49m-\u001b[0m\u001b[97;49m \u001b[0m\u001b[97;49mstart_time\u001b[0m             \n",
            "    \u001b[1;36m50\u001b[0m         \u001b[1;36m1\u001b[0m         \u001b[1;36m16.2\u001b[0m     \u001b[1;36m16.2\u001b[0m      \u001b[1;36m9.1\u001b[0m  \u001b[97;49m  \u001b[0m\u001b[97;49mprint\u001b[0m\u001b[97;49m(\u001b[0m\u001b[93;49m\"\u001b[0m\u001b[93;49mThe program took: \u001b[0m\u001b[93;49m\"\u001b[0m\u001b[97;49m,\u001b[0m\u001b[97;49melapsed_time\u001b[0m\u001b[97;49m,\u001b[0m\u001b[93;49m\"\u001b[0m\u001b[93;49m second…\u001b[0m\n",
            "\n",
            "\n",
            "  0.00 seconds - partition_profile.py:20 - partition\n"
          ]
        }
      ]
    },
    {
      "cell_type": "code",
      "source": [
        "!kernprof -l partition_profile.py < with_solution_23.Text"
      ],
      "metadata": {
        "colab": {
          "base_uri": "https://localhost:8080/"
        },
        "id": "3LeVVxtXXbwS",
        "outputId": "9f39ebec-6990-49c3-dcd0-7e527720342c"
      },
      "execution_count": 40,
      "outputs": [
        {
          "output_type": "stream",
          "name": "stdout",
          "text": [
            "Problem size:  23\n",
            "Problem instance:  [1, 1, 1, 1, 1, 1, 1, 1, 1, 1, 1, 1, 1, 1, 1, 1, 1, 1, 1, 1, 1, 1, 22]\n",
            "Solution found!\n",
            "One partition contains:  (22,)\n",
            "The program took:  0.00021839141845703125  seconds.\n",
            "Wrote profile results to partition_profile.py.lprof\n",
            "Inspect results with:\n",
            "python3 -m line_profiler -rmt \"partition_profile.py.lprof\"\n"
          ]
        }
      ]
    },
    {
      "cell_type": "code",
      "source": [
        "!python3 -m line_profiler -rmt \"partition_profile.py.lprof\""
      ],
      "metadata": {
        "colab": {
          "base_uri": "https://localhost:8080/"
        },
        "id": "YKidj_aVXfai",
        "outputId": "ba75634f-66de-4b00-9f99-72fccfc18cb5"
      },
      "execution_count": 41,
      "outputs": [
        {
          "output_type": "stream",
          "name": "stdout",
          "text": [
            "Timer unit: 1e-06 s\n",
            "\n",
            "Total time: 0.000178989 s\n",
            "File: partition_profile.py\n",
            "Function: partition at line 20\n",
            "\n",
            "Line #      Hits         Time  Per Hit   % Time  Line Contents\n",
            "==============================================================\n",
            "    \u001b[1;36m20\u001b[0m                                           \u001b[92;49m@profile\u001b[0m                                           \n",
            "    \u001b[1;36m21\u001b[0m                                           \u001b[96;49mdef\u001b[0m\u001b[97;49m \u001b[0m\u001b[92;49mpartition\u001b[0m\u001b[97;49m(\u001b[0m\u001b[97;49m)\u001b[0m\u001b[97;49m:\u001b[0m                                   \n",
            "    \u001b[1;36m22\u001b[0m         \u001b[1;36m1\u001b[0m          \u001b[1;36m2.4\u001b[0m      \u001b[1;36m2.4\u001b[0m      \u001b[1;36m1.4\u001b[0m  \u001b[97;49m  \u001b[0m\u001b[97;49mstart_time\u001b[0m\u001b[97;49m \u001b[0m\u001b[91;49m=\u001b[0m\u001b[97;49m \u001b[0m\u001b[97;49mtime\u001b[0m\u001b[91;49m.\u001b[0m\u001b[97;49mtime\u001b[0m\u001b[97;49m(\u001b[0m\u001b[97;49m)\u001b[0m                         \n",
            "    \u001b[1;36m23\u001b[0m                                           \u001b[97;49m  \u001b[0m\u001b[37;49m# Read the problem\u001b[0m                               \n",
            "    \u001b[1;36m24\u001b[0m         \u001b[1;36m1\u001b[0m         \u001b[1;36m36.0\u001b[0m     \u001b[1;36m36.0\u001b[0m     \u001b[1;36m20.1\u001b[0m  \u001b[97;49m  \u001b[0m\u001b[97;49mn\u001b[0m\u001b[97;49m \u001b[0m\u001b[91;49m=\u001b[0m\u001b[97;49m \u001b[0m\u001b[97;49mint\u001b[0m\u001b[97;49m(\u001b[0m\u001b[97;49minput\u001b[0m\u001b[97;49m(\u001b[0m\u001b[97;49m)\u001b[0m\u001b[97;49m)\u001b[0m                                 \n",
            "    \u001b[1;36m25\u001b[0m         \u001b[1;36m1\u001b[0m          \u001b[1;36m2.1\u001b[0m      \u001b[1;36m2.1\u001b[0m      \u001b[1;36m1.2\u001b[0m  \u001b[97;49m  \u001b[0m\u001b[97;49mvaluesString\u001b[0m\u001b[97;49m \u001b[0m\u001b[91;49m=\u001b[0m\u001b[97;49m \u001b[0m\u001b[97;49minput\u001b[0m\u001b[97;49m(\u001b[0m\u001b[97;49m)\u001b[0m                           \n",
            "    \u001b[1;36m26\u001b[0m         \u001b[1;36m1\u001b[0m          \u001b[1;36m2.7\u001b[0m      \u001b[1;36m2.7\u001b[0m      \u001b[1;36m1.5\u001b[0m  \u001b[97;49m  \u001b[0m\u001b[97;49mvalues\u001b[0m\u001b[97;49m \u001b[0m\u001b[91;49m=\u001b[0m\u001b[97;49m \u001b[0m\u001b[97;49mvaluesString\u001b[0m\u001b[91;49m.\u001b[0m\u001b[97;49msplit\u001b[0m\u001b[97;49m(\u001b[0m\u001b[97;49m)\u001b[0m                    \n",
            "    \u001b[1;36m27\u001b[0m        \u001b[1;36m24\u001b[0m          \u001b[1;36m7.3\u001b[0m      \u001b[1;36m0.3\u001b[0m      \u001b[1;36m4.1\u001b[0m  \u001b[97;49m  \u001b[0m\u001b[96;49mfor\u001b[0m\u001b[97;49m \u001b[0m\u001b[97;49mi\u001b[0m\u001b[97;49m \u001b[0m\u001b[91;49min\u001b[0m\u001b[97;49m \u001b[0m\u001b[97;49mrange\u001b[0m\u001b[97;49m(\u001b[0m\u001b[97;49mlen\u001b[0m\u001b[97;49m(\u001b[0m\u001b[97;49mvalues\u001b[0m\u001b[97;49m)\u001b[0m\u001b[97;49m)\u001b[0m\u001b[97;49m:\u001b[0m                     \n",
            "    \u001b[1;36m28\u001b[0m        \u001b[1;36m23\u001b[0m         \u001b[1;36m11.8\u001b[0m      \u001b[1;36m0.5\u001b[0m      \u001b[1;36m6.6\u001b[0m  \u001b[97;49m    \u001b[0m\u001b[97;49mvalues\u001b[0m\u001b[97;49m[\u001b[0m\u001b[97;49mi\u001b[0m\u001b[97;49m]\u001b[0m\u001b[97;49m \u001b[0m\u001b[91;49m=\u001b[0m\u001b[97;49m \u001b[0m\u001b[97;49mint\u001b[0m\u001b[97;49m(\u001b[0m\u001b[97;49mvalues\u001b[0m\u001b[97;49m[\u001b[0m\u001b[97;49mi\u001b[0m\u001b[97;49m]\u001b[0m\u001b[97;49m)\u001b[0m                     \n",
            "    \u001b[1;36m29\u001b[0m                                           \u001b[97;49m  \u001b[0m\u001b[37;49m# Print the instance of the problem\u001b[0m              \n",
            "    \u001b[1;36m30\u001b[0m         \u001b[1;36m1\u001b[0m         \u001b[1;36m23.7\u001b[0m     \u001b[1;36m23.7\u001b[0m     \u001b[1;36m13.3\u001b[0m  \u001b[97;49m  \u001b[0m\u001b[97;49mprint\u001b[0m\u001b[97;49m(\u001b[0m\u001b[93;49m\"\u001b[0m\u001b[93;49mProblem size: \u001b[0m\u001b[93;49m\"\u001b[0m\u001b[97;49m,\u001b[0m\u001b[97;49mn\u001b[0m\u001b[97;49m)\u001b[0m                        \n",
            "    \u001b[1;36m31\u001b[0m         \u001b[1;36m1\u001b[0m         \u001b[1;36m14.0\u001b[0m     \u001b[1;36m14.0\u001b[0m      \u001b[1;36m7.8\u001b[0m  \u001b[97;49m  \u001b[0m\u001b[97;49mprint\u001b[0m\u001b[97;49m(\u001b[0m\u001b[93;49m\"\u001b[0m\u001b[93;49mProblem instance: \u001b[0m\u001b[93;49m\"\u001b[0m\u001b[97;49m,\u001b[0m\u001b[97;49mvalues\u001b[0m\u001b[97;49m)\u001b[0m               \n",
            "    \u001b[1;36m32\u001b[0m                                                                                              \n",
            "    \u001b[1;36m33\u001b[0m         \u001b[1;36m1\u001b[0m          \u001b[1;36m1.7\u001b[0m      \u001b[1;36m1.7\u001b[0m      \u001b[1;36m1.0\u001b[0m  \u001b[97;49m  \u001b[0m\u001b[97;49msum_of_numbers\u001b[0m\u001b[97;49m \u001b[0m\u001b[91;49m=\u001b[0m\u001b[97;49m \u001b[0m\u001b[97;49msum\u001b[0m\u001b[97;49m(\u001b[0m\u001b[97;49mvalues\u001b[0m\u001b[97;49m)\u001b[0m                     \n",
            "    \u001b[1;36m34\u001b[0m         \u001b[1;36m1\u001b[0m          \u001b[1;36m1.1\u001b[0m      \u001b[1;36m1.1\u001b[0m      \u001b[1;36m0.6\u001b[0m  \u001b[97;49m  \u001b[0m\u001b[96;49mif\u001b[0m\u001b[97;49m \u001b[0m\u001b[97;49msum_of_numbers\u001b[0m\u001b[97;49m \u001b[0m\u001b[91;49m%\u001b[0m\u001b[97;49m \u001b[0m\u001b[37;49m2\u001b[0m\u001b[97;49m \u001b[0m\u001b[91;49m==\u001b[0m\u001b[97;49m \u001b[0m\u001b[37;49m1\u001b[0m\u001b[97;49m:\u001b[0m                      \n",
            "    \u001b[1;36m35\u001b[0m                                           \u001b[97;49m    \u001b[0m\u001b[97;49mprint\u001b[0m\u001b[97;49m(\u001b[0m\u001b[93;49m\"\u001b[0m\u001b[93;49mThis instance does not have a solution\u001b[0m\u001b[93;49m\"\u001b[0m\u001b[97;49m)\u001b[0m\n",
            "    \u001b[1;36m36\u001b[0m                                           \u001b[97;49m  \u001b[0m\u001b[96;49melse\u001b[0m\u001b[97;49m:\u001b[0m                                            \n",
            "    \u001b[1;36m37\u001b[0m         \u001b[1;36m1\u001b[0m          \u001b[1;36m7.5\u001b[0m      \u001b[1;36m7.5\u001b[0m      \u001b[1;36m4.2\u001b[0m  \u001b[97;49m    \u001b[0m\u001b[97;49mpower_set\u001b[0m\u001b[97;49m \u001b[0m\u001b[91;49m=\u001b[0m\u001b[97;49m \u001b[0m\u001b[97;49mpowerset\u001b[0m\u001b[97;49m(\u001b[0m\u001b[97;49mvalues\u001b[0m\u001b[97;49m)\u001b[0m                   \n",
            "    \u001b[1;36m38\u001b[0m         \u001b[1;36m1\u001b[0m          \u001b[1;36m0.3\u001b[0m      \u001b[1;36m0.3\u001b[0m      \u001b[1;36m0.2\u001b[0m  \u001b[97;49m    \u001b[0m\u001b[97;49msolution_found\u001b[0m\u001b[97;49m \u001b[0m\u001b[91;49m=\u001b[0m\u001b[97;49m \u001b[0m\u001b[96;49mFalse\u001b[0m                         \n",
            "    \u001b[1;36m39\u001b[0m        \u001b[1;36m24\u001b[0m         \u001b[1;36m16.8\u001b[0m      \u001b[1;36m0.7\u001b[0m      \u001b[1;36m9.4\u001b[0m  \u001b[97;49m    \u001b[0m\u001b[96;49mfor\u001b[0m\u001b[97;49m \u001b[0m\u001b[97;49mset\u001b[0m\u001b[97;49m \u001b[0m\u001b[91;49min\u001b[0m\u001b[97;49m \u001b[0m\u001b[97;49mpower_set\u001b[0m\u001b[97;49m:\u001b[0m                          \n",
            "    \u001b[1;36m40\u001b[0m        \u001b[1;36m24\u001b[0m         \u001b[1;36m15.3\u001b[0m      \u001b[1;36m0.6\u001b[0m      \u001b[1;36m8.6\u001b[0m  \u001b[97;49m      \u001b[0m\u001b[96;49mif\u001b[0m\u001b[97;49m \u001b[0m\u001b[97;49msum\u001b[0m\u001b[97;49m(\u001b[0m\u001b[97;49mset\u001b[0m\u001b[97;49m)\u001b[0m\u001b[97;49m \u001b[0m\u001b[91;49m==\u001b[0m\u001b[97;49m \u001b[0m\u001b[97;49m(\u001b[0m\u001b[97;49msum_of_numbers\u001b[0m\u001b[91;49m/\u001b[0m\u001b[91;49m/\u001b[0m\u001b[37;49m2\u001b[0m\u001b[97;49m)\u001b[0m\u001b[97;49m:\u001b[0m          \n",
            "    \u001b[1;36m41\u001b[0m         \u001b[1;36m1\u001b[0m          \u001b[1;36m8.9\u001b[0m      \u001b[1;36m8.9\u001b[0m      \u001b[1;36m5.0\u001b[0m  \u001b[97;49m        \u001b[0m\u001b[97;49mprint\u001b[0m\u001b[97;49m(\u001b[0m\u001b[93;49m\"\u001b[0m\u001b[93;49mSolution found!\u001b[0m\u001b[93;49m\"\u001b[0m\u001b[97;49m)\u001b[0m                   \n",
            "    \u001b[1;36m42\u001b[0m         \u001b[1;36m1\u001b[0m          \u001b[1;36m8.0\u001b[0m      \u001b[1;36m8.0\u001b[0m      \u001b[1;36m4.5\u001b[0m  \u001b[97;49m        \u001b[0m\u001b[97;49mprint\u001b[0m\u001b[97;49m(\u001b[0m\u001b[93;49m\"\u001b[0m\u001b[93;49mOne partition contains: \u001b[0m\u001b[93;49m\"\u001b[0m\u001b[97;49m,\u001b[0m\u001b[97;49mset\u001b[0m\u001b[97;49m)\u001b[0m      \n",
            "    \u001b[1;36m43\u001b[0m         \u001b[1;36m1\u001b[0m          \u001b[1;36m0.3\u001b[0m      \u001b[1;36m0.3\u001b[0m      \u001b[1;36m0.2\u001b[0m  \u001b[97;49m        \u001b[0m\u001b[97;49msolution_found\u001b[0m\u001b[97;49m \u001b[0m\u001b[91;49m=\u001b[0m\u001b[97;49m \u001b[0m\u001b[96;49mTrue\u001b[0m                      \n",
            "    \u001b[1;36m44\u001b[0m         \u001b[1;36m1\u001b[0m          \u001b[1;36m0.4\u001b[0m      \u001b[1;36m0.4\u001b[0m      \u001b[1;36m0.2\u001b[0m  \u001b[97;49m        \u001b[0m\u001b[96;49mbreak\u001b[0m                                      \n",
            "    \u001b[1;36m45\u001b[0m         \u001b[1;36m1\u001b[0m          \u001b[1;36m0.4\u001b[0m      \u001b[1;36m0.4\u001b[0m      \u001b[1;36m0.2\u001b[0m  \u001b[97;49m    \u001b[0m\u001b[96;49mif\u001b[0m\u001b[97;49m \u001b[0m\u001b[97;49msolution_found\u001b[0m\u001b[97;49m \u001b[0m\u001b[91;49m==\u001b[0m\u001b[97;49m \u001b[0m\u001b[96;49mFalse\u001b[0m\u001b[97;49m:\u001b[0m                    \n",
            "    \u001b[1;36m46\u001b[0m                                           \u001b[97;49m      \u001b[0m\u001b[97;49mprint\u001b[0m\u001b[97;49m(\u001b[0m\u001b[93;49m\"\u001b[0m\u001b[93;49mThis instance does not have a solutio…\u001b[0m\n",
            "    \u001b[1;36m47\u001b[0m                                                                                              \n",
            "    \u001b[1;36m48\u001b[0m         \u001b[1;36m1\u001b[0m          \u001b[1;36m1.3\u001b[0m      \u001b[1;36m1.3\u001b[0m      \u001b[1;36m0.7\u001b[0m  \u001b[97;49m  \u001b[0m\u001b[97;49mend_time\u001b[0m\u001b[97;49m \u001b[0m\u001b[91;49m=\u001b[0m\u001b[97;49m \u001b[0m\u001b[97;49mtime\u001b[0m\u001b[91;49m.\u001b[0m\u001b[97;49mtime\u001b[0m\u001b[97;49m(\u001b[0m\u001b[97;49m)\u001b[0m                           \n",
            "    \u001b[1;36m49\u001b[0m         \u001b[1;36m1\u001b[0m          \u001b[1;36m0.7\u001b[0m      \u001b[1;36m0.7\u001b[0m      \u001b[1;36m0.4\u001b[0m  \u001b[97;49m  \u001b[0m\u001b[97;49melapsed_time\u001b[0m\u001b[97;49m \u001b[0m\u001b[91;49m=\u001b[0m\u001b[97;49m \u001b[0m\u001b[97;49mend_time\u001b[0m\u001b[97;49m \u001b[0m\u001b[91;49m-\u001b[0m\u001b[97;49m \u001b[0m\u001b[97;49mstart_time\u001b[0m             \n",
            "    \u001b[1;36m50\u001b[0m         \u001b[1;36m1\u001b[0m         \u001b[1;36m16.1\u001b[0m     \u001b[1;36m16.1\u001b[0m      \u001b[1;36m9.0\u001b[0m  \u001b[97;49m  \u001b[0m\u001b[97;49mprint\u001b[0m\u001b[97;49m(\u001b[0m\u001b[93;49m\"\u001b[0m\u001b[93;49mThe program took: \u001b[0m\u001b[93;49m\"\u001b[0m\u001b[97;49m,\u001b[0m\u001b[97;49melapsed_time\u001b[0m\u001b[97;49m,\u001b[0m\u001b[93;49m\"\u001b[0m\u001b[93;49m second…\u001b[0m\n",
            "\n",
            "\n",
            "  0.00 seconds - partition_profile.py:20 - partition\n"
          ]
        }
      ]
    },
    {
      "cell_type": "markdown",
      "source": [
        "The behavior of the program on the instances with no solution will be very different. The program needs to examine the entire Powerset and it can state that there is no solution only after examining the entire Powerset.\n"
      ],
      "metadata": {
        "id": "okSGRu2rXkb7"
      }
    },
    {
      "cell_type": "code",
      "source": [
        "!kernprof -l partition_profile.py < no_solution_20.Text"
      ],
      "metadata": {
        "colab": {
          "base_uri": "https://localhost:8080/"
        },
        "id": "21LWBPHLXymS",
        "outputId": "4aca9e17-0d12-424c-db0d-caff64671764"
      },
      "execution_count": 42,
      "outputs": [
        {
          "output_type": "stream",
          "name": "stdout",
          "text": [
            "Problem size:  20\n",
            "Problem instance:  [1, 1, 1, 1, 1, 1, 1, 1, 1, 1, 1, 1, 1, 1, 1, 1, 1, 1, 1, 21]\n",
            "This instance does not have a solution\n",
            "The program took:  1.6199891567230225  seconds.\n",
            "Wrote profile results to partition_profile.py.lprof\n",
            "Inspect results with:\n",
            "python3 -m line_profiler -rmt \"partition_profile.py.lprof\"\n"
          ]
        }
      ]
    },
    {
      "cell_type": "code",
      "source": [
        "!python3 -m line_profiler -rmt \"partition_profile.py.lprof\""
      ],
      "metadata": {
        "colab": {
          "base_uri": "https://localhost:8080/"
        },
        "id": "e_Jz6Jt3X5kD",
        "outputId": "ca902a19-84e3-4f36-a88f-aa3b34a02e6a"
      },
      "execution_count": 43,
      "outputs": [
        {
          "output_type": "stream",
          "name": "stdout",
          "text": [
            "Timer unit: 1e-06 s\n",
            "\n",
            "Total time: 0.897 s\n",
            "File: partition_profile.py\n",
            "Function: partition at line 20\n",
            "\n",
            "Line #      Hits         Time  Per Hit   % Time  Line Contents\n",
            "==============================================================\n",
            "    \u001b[1;36m20\u001b[0m                                           \u001b[92;49m@profile\u001b[0m                                           \n",
            "    \u001b[1;36m21\u001b[0m                                           \u001b[96;49mdef\u001b[0m\u001b[97;49m \u001b[0m\u001b[92;49mpartition\u001b[0m\u001b[97;49m(\u001b[0m\u001b[97;49m)\u001b[0m\u001b[97;49m:\u001b[0m                                   \n",
            "    \u001b[1;36m22\u001b[0m         \u001b[1;36m1\u001b[0m          \u001b[1;36m3.6\u001b[0m      \u001b[1;36m3.6\u001b[0m      \u001b[1;36m0.0\u001b[0m  \u001b[97;49m  \u001b[0m\u001b[97;49mstart_time\u001b[0m\u001b[97;49m \u001b[0m\u001b[91;49m=\u001b[0m\u001b[97;49m \u001b[0m\u001b[97;49mtime\u001b[0m\u001b[91;49m.\u001b[0m\u001b[97;49mtime\u001b[0m\u001b[97;49m(\u001b[0m\u001b[97;49m)\u001b[0m                         \n",
            "    \u001b[1;36m23\u001b[0m                                           \u001b[97;49m  \u001b[0m\u001b[37;49m# Read the problem\u001b[0m                               \n",
            "    \u001b[1;36m24\u001b[0m         \u001b[1;36m1\u001b[0m         \u001b[1;36m48.1\u001b[0m     \u001b[1;36m48.1\u001b[0m      \u001b[1;36m0.0\u001b[0m  \u001b[97;49m  \u001b[0m\u001b[97;49mn\u001b[0m\u001b[97;49m \u001b[0m\u001b[91;49m=\u001b[0m\u001b[97;49m \u001b[0m\u001b[97;49mint\u001b[0m\u001b[97;49m(\u001b[0m\u001b[97;49minput\u001b[0m\u001b[97;49m(\u001b[0m\u001b[97;49m)\u001b[0m\u001b[97;49m)\u001b[0m                                 \n",
            "    \u001b[1;36m25\u001b[0m         \u001b[1;36m1\u001b[0m          \u001b[1;36m3.2\u001b[0m      \u001b[1;36m3.2\u001b[0m      \u001b[1;36m0.0\u001b[0m  \u001b[97;49m  \u001b[0m\u001b[97;49mvaluesString\u001b[0m\u001b[97;49m \u001b[0m\u001b[91;49m=\u001b[0m\u001b[97;49m \u001b[0m\u001b[97;49minput\u001b[0m\u001b[97;49m(\u001b[0m\u001b[97;49m)\u001b[0m                           \n",
            "    \u001b[1;36m26\u001b[0m         \u001b[1;36m1\u001b[0m          \u001b[1;36m4.3\u001b[0m      \u001b[1;36m4.3\u001b[0m      \u001b[1;36m0.0\u001b[0m  \u001b[97;49m  \u001b[0m\u001b[97;49mvalues\u001b[0m\u001b[97;49m \u001b[0m\u001b[91;49m=\u001b[0m\u001b[97;49m \u001b[0m\u001b[97;49mvaluesString\u001b[0m\u001b[91;49m.\u001b[0m\u001b[97;49msplit\u001b[0m\u001b[97;49m(\u001b[0m\u001b[97;49m)\u001b[0m                    \n",
            "    \u001b[1;36m27\u001b[0m        \u001b[1;36m21\u001b[0m          \u001b[1;36m9.5\u001b[0m      \u001b[1;36m0.5\u001b[0m      \u001b[1;36m0.0\u001b[0m  \u001b[97;49m  \u001b[0m\u001b[96;49mfor\u001b[0m\u001b[97;49m \u001b[0m\u001b[97;49mi\u001b[0m\u001b[97;49m \u001b[0m\u001b[91;49min\u001b[0m\u001b[97;49m \u001b[0m\u001b[97;49mrange\u001b[0m\u001b[97;49m(\u001b[0m\u001b[97;49mlen\u001b[0m\u001b[97;49m(\u001b[0m\u001b[97;49mvalues\u001b[0m\u001b[97;49m)\u001b[0m\u001b[97;49m)\u001b[0m\u001b[97;49m:\u001b[0m                     \n",
            "    \u001b[1;36m28\u001b[0m        \u001b[1;36m20\u001b[0m         \u001b[1;36m15.7\u001b[0m      \u001b[1;36m0.8\u001b[0m      \u001b[1;36m0.0\u001b[0m  \u001b[97;49m    \u001b[0m\u001b[97;49mvalues\u001b[0m\u001b[97;49m[\u001b[0m\u001b[97;49mi\u001b[0m\u001b[97;49m]\u001b[0m\u001b[97;49m \u001b[0m\u001b[91;49m=\u001b[0m\u001b[97;49m \u001b[0m\u001b[97;49mint\u001b[0m\u001b[97;49m(\u001b[0m\u001b[97;49mvalues\u001b[0m\u001b[97;49m[\u001b[0m\u001b[97;49mi\u001b[0m\u001b[97;49m]\u001b[0m\u001b[97;49m)\u001b[0m                     \n",
            "    \u001b[1;36m29\u001b[0m                                           \u001b[97;49m  \u001b[0m\u001b[37;49m# Print the instance of the problem\u001b[0m              \n",
            "    \u001b[1;36m30\u001b[0m         \u001b[1;36m1\u001b[0m         \u001b[1;36m27.5\u001b[0m     \u001b[1;36m27.5\u001b[0m      \u001b[1;36m0.0\u001b[0m  \u001b[97;49m  \u001b[0m\u001b[97;49mprint\u001b[0m\u001b[97;49m(\u001b[0m\u001b[93;49m\"\u001b[0m\u001b[93;49mProblem size: \u001b[0m\u001b[93;49m\"\u001b[0m\u001b[97;49m,\u001b[0m\u001b[97;49mn\u001b[0m\u001b[97;49m)\u001b[0m                        \n",
            "    \u001b[1;36m31\u001b[0m         \u001b[1;36m1\u001b[0m         \u001b[1;36m16.7\u001b[0m     \u001b[1;36m16.7\u001b[0m      \u001b[1;36m0.0\u001b[0m  \u001b[97;49m  \u001b[0m\u001b[97;49mprint\u001b[0m\u001b[97;49m(\u001b[0m\u001b[93;49m\"\u001b[0m\u001b[93;49mProblem instance: \u001b[0m\u001b[93;49m\"\u001b[0m\u001b[97;49m,\u001b[0m\u001b[97;49mvalues\u001b[0m\u001b[97;49m)\u001b[0m               \n",
            "    \u001b[1;36m32\u001b[0m                                                                                              \n",
            "    \u001b[1;36m33\u001b[0m         \u001b[1;36m1\u001b[0m          \u001b[1;36m2.0\u001b[0m      \u001b[1;36m2.0\u001b[0m      \u001b[1;36m0.0\u001b[0m  \u001b[97;49m  \u001b[0m\u001b[97;49msum_of_numbers\u001b[0m\u001b[97;49m \u001b[0m\u001b[91;49m=\u001b[0m\u001b[97;49m \u001b[0m\u001b[97;49msum\u001b[0m\u001b[97;49m(\u001b[0m\u001b[97;49mvalues\u001b[0m\u001b[97;49m)\u001b[0m                     \n",
            "    \u001b[1;36m34\u001b[0m         \u001b[1;36m1\u001b[0m          \u001b[1;36m1.2\u001b[0m      \u001b[1;36m1.2\u001b[0m      \u001b[1;36m0.0\u001b[0m  \u001b[97;49m  \u001b[0m\u001b[96;49mif\u001b[0m\u001b[97;49m \u001b[0m\u001b[97;49msum_of_numbers\u001b[0m\u001b[97;49m \u001b[0m\u001b[91;49m%\u001b[0m\u001b[97;49m \u001b[0m\u001b[37;49m2\u001b[0m\u001b[97;49m \u001b[0m\u001b[91;49m==\u001b[0m\u001b[97;49m \u001b[0m\u001b[37;49m1\u001b[0m\u001b[97;49m:\u001b[0m                      \n",
            "    \u001b[1;36m35\u001b[0m                                           \u001b[97;49m    \u001b[0m\u001b[97;49mprint\u001b[0m\u001b[97;49m(\u001b[0m\u001b[93;49m\"\u001b[0m\u001b[93;49mThis instance does not have a solution\u001b[0m\u001b[93;49m\"\u001b[0m\u001b[97;49m)\u001b[0m\n",
            "    \u001b[1;36m36\u001b[0m                                           \u001b[97;49m  \u001b[0m\u001b[96;49melse\u001b[0m\u001b[97;49m:\u001b[0m                                            \n",
            "    \u001b[1;36m37\u001b[0m         \u001b[1;36m1\u001b[0m          \u001b[1;36m9.9\u001b[0m      \u001b[1;36m9.9\u001b[0m      \u001b[1;36m0.0\u001b[0m  \u001b[97;49m    \u001b[0m\u001b[97;49mpower_set\u001b[0m\u001b[97;49m \u001b[0m\u001b[91;49m=\u001b[0m\u001b[97;49m \u001b[0m\u001b[97;49mpowerset\u001b[0m\u001b[97;49m(\u001b[0m\u001b[97;49mvalues\u001b[0m\u001b[97;49m)\u001b[0m                   \n",
            "    \u001b[1;36m38\u001b[0m         \u001b[1;36m1\u001b[0m          \u001b[1;36m0.5\u001b[0m      \u001b[1;36m0.5\u001b[0m      \u001b[1;36m0.0\u001b[0m  \u001b[97;49m    \u001b[0m\u001b[97;49msolution_found\u001b[0m\u001b[97;49m \u001b[0m\u001b[91;49m=\u001b[0m\u001b[97;49m \u001b[0m\u001b[96;49mFalse\u001b[0m                         \n",
            "    \u001b[1;36m39\u001b[0m   \u001b[1;36m1048577\u001b[0m     \u001b[1;36m332384.6\u001b[0m      \u001b[1;36m0.3\u001b[0m     \u001b[1;36m37.1\u001b[0m  \u001b[97;49m    \u001b[0m\u001b[96;49mfor\u001b[0m\u001b[97;49m \u001b[0m\u001b[97;49mset\u001b[0m\u001b[97;49m \u001b[0m\u001b[91;49min\u001b[0m\u001b[97;49m \u001b[0m\u001b[97;49mpower_set\u001b[0m\u001b[97;49m:\u001b[0m                          \n",
            "    \u001b[1;36m40\u001b[0m   \u001b[1;36m1048576\u001b[0m     \u001b[1;36m564406.3\u001b[0m      \u001b[1;36m0.5\u001b[0m     \u001b[1;36m62.9\u001b[0m  \u001b[97;49m      \u001b[0m\u001b[96;49mif\u001b[0m\u001b[97;49m \u001b[0m\u001b[97;49msum\u001b[0m\u001b[97;49m(\u001b[0m\u001b[97;49mset\u001b[0m\u001b[97;49m)\u001b[0m\u001b[97;49m \u001b[0m\u001b[91;49m==\u001b[0m\u001b[97;49m \u001b[0m\u001b[97;49m(\u001b[0m\u001b[97;49msum_of_numbers\u001b[0m\u001b[91;49m/\u001b[0m\u001b[91;49m/\u001b[0m\u001b[37;49m2\u001b[0m\u001b[97;49m)\u001b[0m\u001b[97;49m:\u001b[0m          \n",
            "    \u001b[1;36m41\u001b[0m                                           \u001b[97;49m        \u001b[0m\u001b[97;49mprint\u001b[0m\u001b[97;49m(\u001b[0m\u001b[93;49m\"\u001b[0m\u001b[93;49mSolution found!\u001b[0m\u001b[93;49m\"\u001b[0m\u001b[97;49m)\u001b[0m                   \n",
            "    \u001b[1;36m42\u001b[0m                                           \u001b[97;49m        \u001b[0m\u001b[97;49mprint\u001b[0m\u001b[97;49m(\u001b[0m\u001b[93;49m\"\u001b[0m\u001b[93;49mOne partition contains: \u001b[0m\u001b[93;49m\"\u001b[0m\u001b[97;49m,\u001b[0m\u001b[97;49mset\u001b[0m\u001b[97;49m)\u001b[0m      \n",
            "    \u001b[1;36m43\u001b[0m                                           \u001b[97;49m        \u001b[0m\u001b[97;49msolution_found\u001b[0m\u001b[97;49m \u001b[0m\u001b[91;49m=\u001b[0m\u001b[97;49m \u001b[0m\u001b[96;49mTrue\u001b[0m                      \n",
            "    \u001b[1;36m44\u001b[0m                                           \u001b[97;49m        \u001b[0m\u001b[96;49mbreak\u001b[0m                                      \n",
            "    \u001b[1;36m45\u001b[0m         \u001b[1;36m1\u001b[0m          \u001b[1;36m0.6\u001b[0m      \u001b[1;36m0.6\u001b[0m      \u001b[1;36m0.0\u001b[0m  \u001b[97;49m    \u001b[0m\u001b[96;49mif\u001b[0m\u001b[97;49m \u001b[0m\u001b[97;49msolution_found\u001b[0m\u001b[97;49m \u001b[0m\u001b[91;49m==\u001b[0m\u001b[97;49m \u001b[0m\u001b[96;49mFalse\u001b[0m\u001b[97;49m:\u001b[0m                    \n",
            "    \u001b[1;36m46\u001b[0m         \u001b[1;36m1\u001b[0m         \u001b[1;36m36.4\u001b[0m     \u001b[1;36m36.4\u001b[0m      \u001b[1;36m0.0\u001b[0m  \u001b[97;49m      \u001b[0m\u001b[97;49mprint\u001b[0m\u001b[97;49m(\u001b[0m\u001b[93;49m\"\u001b[0m\u001b[93;49mThis instance does not have a solutio…\u001b[0m\n",
            "    \u001b[1;36m47\u001b[0m                                                                                              \n",
            "    \u001b[1;36m48\u001b[0m         \u001b[1;36m1\u001b[0m          \u001b[1;36m6.8\u001b[0m      \u001b[1;36m6.8\u001b[0m      \u001b[1;36m0.0\u001b[0m  \u001b[97;49m  \u001b[0m\u001b[97;49mend_time\u001b[0m\u001b[97;49m \u001b[0m\u001b[91;49m=\u001b[0m\u001b[97;49m \u001b[0m\u001b[97;49mtime\u001b[0m\u001b[91;49m.\u001b[0m\u001b[97;49mtime\u001b[0m\u001b[97;49m(\u001b[0m\u001b[97;49m)\u001b[0m                           \n",
            "    \u001b[1;36m49\u001b[0m         \u001b[1;36m1\u001b[0m          \u001b[1;36m0.9\u001b[0m      \u001b[1;36m0.9\u001b[0m      \u001b[1;36m0.0\u001b[0m  \u001b[97;49m  \u001b[0m\u001b[97;49melapsed_time\u001b[0m\u001b[97;49m \u001b[0m\u001b[91;49m=\u001b[0m\u001b[97;49m \u001b[0m\u001b[97;49mend_time\u001b[0m\u001b[97;49m \u001b[0m\u001b[91;49m-\u001b[0m\u001b[97;49m \u001b[0m\u001b[97;49mstart_time\u001b[0m             \n",
            "    \u001b[1;36m50\u001b[0m         \u001b[1;36m1\u001b[0m         \u001b[1;36m22.2\u001b[0m     \u001b[1;36m22.2\u001b[0m      \u001b[1;36m0.0\u001b[0m  \u001b[97;49m  \u001b[0m\u001b[97;49mprint\u001b[0m\u001b[97;49m(\u001b[0m\u001b[93;49m\"\u001b[0m\u001b[93;49mThe program took: \u001b[0m\u001b[93;49m\"\u001b[0m\u001b[97;49m,\u001b[0m\u001b[97;49melapsed_time\u001b[0m\u001b[97;49m,\u001b[0m\u001b[93;49m\"\u001b[0m\u001b[93;49m second…\u001b[0m\n",
            "\n",
            "\n",
            "  0.90 seconds - partition_profile.py:20 - partition\n"
          ]
        }
      ]
    },
    {
      "cell_type": "code",
      "source": [
        "!kernprof -l partition_profile.py < no_solution_21.Text"
      ],
      "metadata": {
        "colab": {
          "base_uri": "https://localhost:8080/"
        },
        "id": "651wiGjzYCba",
        "outputId": "a7ecd320-71e1-48c4-f989-bb844b31d55f"
      },
      "execution_count": 44,
      "outputs": [
        {
          "output_type": "stream",
          "name": "stdout",
          "text": [
            "Problem size:  21\n",
            "Problem instance:  [1, 1, 1, 1, 1, 1, 1, 1, 1, 1, 1, 1, 1, 1, 1, 1, 1, 1, 1, 1, 22]\n",
            "This instance does not have a solution\n",
            "The program took:  4.177552223205566  seconds.\n",
            "Wrote profile results to partition_profile.py.lprof\n",
            "Inspect results with:\n",
            "python3 -m line_profiler -rmt \"partition_profile.py.lprof\"\n"
          ]
        }
      ]
    },
    {
      "cell_type": "code",
      "source": [
        "!python3 -m line_profiler -rmt \"partition_profile.py.lprof\""
      ],
      "metadata": {
        "colab": {
          "base_uri": "https://localhost:8080/"
        },
        "id": "MrDuMjNZYGNa",
        "outputId": "b254c0fc-0f05-4518-e35a-7eca71eacab6"
      },
      "execution_count": 45,
      "outputs": [
        {
          "output_type": "stream",
          "name": "stdout",
          "text": [
            "Timer unit: 1e-06 s\n",
            "\n",
            "Total time: 2.37933 s\n",
            "File: partition_profile.py\n",
            "Function: partition at line 20\n",
            "\n",
            "Line #      Hits         Time  Per Hit   % Time  Line Contents\n",
            "==============================================================\n",
            "    \u001b[1;36m20\u001b[0m                                           \u001b[92;49m@profile\u001b[0m                                           \n",
            "    \u001b[1;36m21\u001b[0m                                           \u001b[96;49mdef\u001b[0m\u001b[97;49m \u001b[0m\u001b[92;49mpartition\u001b[0m\u001b[97;49m(\u001b[0m\u001b[97;49m)\u001b[0m\u001b[97;49m:\u001b[0m                                   \n",
            "    \u001b[1;36m22\u001b[0m         \u001b[1;36m1\u001b[0m          \u001b[1;36m2.4\u001b[0m      \u001b[1;36m2.4\u001b[0m      \u001b[1;36m0.0\u001b[0m  \u001b[97;49m  \u001b[0m\u001b[97;49mstart_time\u001b[0m\u001b[97;49m \u001b[0m\u001b[91;49m=\u001b[0m\u001b[97;49m \u001b[0m\u001b[97;49mtime\u001b[0m\u001b[91;49m.\u001b[0m\u001b[97;49mtime\u001b[0m\u001b[97;49m(\u001b[0m\u001b[97;49m)\u001b[0m                         \n",
            "    \u001b[1;36m23\u001b[0m                                           \u001b[97;49m  \u001b[0m\u001b[37;49m# Read the problem\u001b[0m                               \n",
            "    \u001b[1;36m24\u001b[0m         \u001b[1;36m1\u001b[0m         \u001b[1;36m34.6\u001b[0m     \u001b[1;36m34.6\u001b[0m      \u001b[1;36m0.0\u001b[0m  \u001b[97;49m  \u001b[0m\u001b[97;49mn\u001b[0m\u001b[97;49m \u001b[0m\u001b[91;49m=\u001b[0m\u001b[97;49m \u001b[0m\u001b[97;49mint\u001b[0m\u001b[97;49m(\u001b[0m\u001b[97;49minput\u001b[0m\u001b[97;49m(\u001b[0m\u001b[97;49m)\u001b[0m\u001b[97;49m)\u001b[0m                                 \n",
            "    \u001b[1;36m25\u001b[0m         \u001b[1;36m1\u001b[0m          \u001b[1;36m1.9\u001b[0m      \u001b[1;36m1.9\u001b[0m      \u001b[1;36m0.0\u001b[0m  \u001b[97;49m  \u001b[0m\u001b[97;49mvaluesString\u001b[0m\u001b[97;49m \u001b[0m\u001b[91;49m=\u001b[0m\u001b[97;49m \u001b[0m\u001b[97;49minput\u001b[0m\u001b[97;49m(\u001b[0m\u001b[97;49m)\u001b[0m                           \n",
            "    \u001b[1;36m26\u001b[0m         \u001b[1;36m1\u001b[0m          \u001b[1;36m2.6\u001b[0m      \u001b[1;36m2.6\u001b[0m      \u001b[1;36m0.0\u001b[0m  \u001b[97;49m  \u001b[0m\u001b[97;49mvalues\u001b[0m\u001b[97;49m \u001b[0m\u001b[91;49m=\u001b[0m\u001b[97;49m \u001b[0m\u001b[97;49mvaluesString\u001b[0m\u001b[91;49m.\u001b[0m\u001b[97;49msplit\u001b[0m\u001b[97;49m(\u001b[0m\u001b[97;49m)\u001b[0m                    \n",
            "    \u001b[1;36m27\u001b[0m        \u001b[1;36m22\u001b[0m          \u001b[1;36m7.0\u001b[0m      \u001b[1;36m0.3\u001b[0m      \u001b[1;36m0.0\u001b[0m  \u001b[97;49m  \u001b[0m\u001b[96;49mfor\u001b[0m\u001b[97;49m \u001b[0m\u001b[97;49mi\u001b[0m\u001b[97;49m \u001b[0m\u001b[91;49min\u001b[0m\u001b[97;49m \u001b[0m\u001b[97;49mrange\u001b[0m\u001b[97;49m(\u001b[0m\u001b[97;49mlen\u001b[0m\u001b[97;49m(\u001b[0m\u001b[97;49mvalues\u001b[0m\u001b[97;49m)\u001b[0m\u001b[97;49m)\u001b[0m\u001b[97;49m:\u001b[0m                     \n",
            "    \u001b[1;36m28\u001b[0m        \u001b[1;36m21\u001b[0m         \u001b[1;36m10.9\u001b[0m      \u001b[1;36m0.5\u001b[0m      \u001b[1;36m0.0\u001b[0m  \u001b[97;49m    \u001b[0m\u001b[97;49mvalues\u001b[0m\u001b[97;49m[\u001b[0m\u001b[97;49mi\u001b[0m\u001b[97;49m]\u001b[0m\u001b[97;49m \u001b[0m\u001b[91;49m=\u001b[0m\u001b[97;49m \u001b[0m\u001b[97;49mint\u001b[0m\u001b[97;49m(\u001b[0m\u001b[97;49mvalues\u001b[0m\u001b[97;49m[\u001b[0m\u001b[97;49mi\u001b[0m\u001b[97;49m]\u001b[0m\u001b[97;49m)\u001b[0m                     \n",
            "    \u001b[1;36m29\u001b[0m                                           \u001b[97;49m  \u001b[0m\u001b[37;49m# Print the instance of the problem\u001b[0m              \n",
            "    \u001b[1;36m30\u001b[0m         \u001b[1;36m1\u001b[0m         \u001b[1;36m28.2\u001b[0m     \u001b[1;36m28.2\u001b[0m      \u001b[1;36m0.0\u001b[0m  \u001b[97;49m  \u001b[0m\u001b[97;49mprint\u001b[0m\u001b[97;49m(\u001b[0m\u001b[93;49m\"\u001b[0m\u001b[93;49mProblem size: \u001b[0m\u001b[93;49m\"\u001b[0m\u001b[97;49m,\u001b[0m\u001b[97;49mn\u001b[0m\u001b[97;49m)\u001b[0m                        \n",
            "    \u001b[1;36m31\u001b[0m         \u001b[1;36m1\u001b[0m         \u001b[1;36m13.1\u001b[0m     \u001b[1;36m13.1\u001b[0m      \u001b[1;36m0.0\u001b[0m  \u001b[97;49m  \u001b[0m\u001b[97;49mprint\u001b[0m\u001b[97;49m(\u001b[0m\u001b[93;49m\"\u001b[0m\u001b[93;49mProblem instance: \u001b[0m\u001b[93;49m\"\u001b[0m\u001b[97;49m,\u001b[0m\u001b[97;49mvalues\u001b[0m\u001b[97;49m)\u001b[0m               \n",
            "    \u001b[1;36m32\u001b[0m                                                                                              \n",
            "    \u001b[1;36m33\u001b[0m         \u001b[1;36m1\u001b[0m          \u001b[1;36m1.5\u001b[0m      \u001b[1;36m1.5\u001b[0m      \u001b[1;36m0.0\u001b[0m  \u001b[97;49m  \u001b[0m\u001b[97;49msum_of_numbers\u001b[0m\u001b[97;49m \u001b[0m\u001b[91;49m=\u001b[0m\u001b[97;49m \u001b[0m\u001b[97;49msum\u001b[0m\u001b[97;49m(\u001b[0m\u001b[97;49mvalues\u001b[0m\u001b[97;49m)\u001b[0m                     \n",
            "    \u001b[1;36m34\u001b[0m         \u001b[1;36m1\u001b[0m          \u001b[1;36m0.8\u001b[0m      \u001b[1;36m0.8\u001b[0m      \u001b[1;36m0.0\u001b[0m  \u001b[97;49m  \u001b[0m\u001b[96;49mif\u001b[0m\u001b[97;49m \u001b[0m\u001b[97;49msum_of_numbers\u001b[0m\u001b[97;49m \u001b[0m\u001b[91;49m%\u001b[0m\u001b[97;49m \u001b[0m\u001b[37;49m2\u001b[0m\u001b[97;49m \u001b[0m\u001b[91;49m==\u001b[0m\u001b[97;49m \u001b[0m\u001b[37;49m1\u001b[0m\u001b[97;49m:\u001b[0m                      \n",
            "    \u001b[1;36m35\u001b[0m                                           \u001b[97;49m    \u001b[0m\u001b[97;49mprint\u001b[0m\u001b[97;49m(\u001b[0m\u001b[93;49m\"\u001b[0m\u001b[93;49mThis instance does not have a solution\u001b[0m\u001b[93;49m\"\u001b[0m\u001b[97;49m)\u001b[0m\n",
            "    \u001b[1;36m36\u001b[0m                                           \u001b[97;49m  \u001b[0m\u001b[96;49melse\u001b[0m\u001b[97;49m:\u001b[0m                                            \n",
            "    \u001b[1;36m37\u001b[0m         \u001b[1;36m1\u001b[0m          \u001b[1;36m8.2\u001b[0m      \u001b[1;36m8.2\u001b[0m      \u001b[1;36m0.0\u001b[0m  \u001b[97;49m    \u001b[0m\u001b[97;49mpower_set\u001b[0m\u001b[97;49m \u001b[0m\u001b[91;49m=\u001b[0m\u001b[97;49m \u001b[0m\u001b[97;49mpowerset\u001b[0m\u001b[97;49m(\u001b[0m\u001b[97;49mvalues\u001b[0m\u001b[97;49m)\u001b[0m                   \n",
            "    \u001b[1;36m38\u001b[0m         \u001b[1;36m1\u001b[0m          \u001b[1;36m0.3\u001b[0m      \u001b[1;36m0.3\u001b[0m      \u001b[1;36m0.0\u001b[0m  \u001b[97;49m    \u001b[0m\u001b[97;49msolution_found\u001b[0m\u001b[97;49m \u001b[0m\u001b[91;49m=\u001b[0m\u001b[97;49m \u001b[0m\u001b[96;49mFalse\u001b[0m                         \n",
            "    \u001b[1;36m39\u001b[0m   \u001b[1;36m2097153\u001b[0m     \u001b[1;36m848225.7\u001b[0m      \u001b[1;36m0.4\u001b[0m     \u001b[1;36m35.6\u001b[0m  \u001b[97;49m    \u001b[0m\u001b[96;49mfor\u001b[0m\u001b[97;49m \u001b[0m\u001b[97;49mset\u001b[0m\u001b[97;49m \u001b[0m\u001b[91;49min\u001b[0m\u001b[97;49m \u001b[0m\u001b[97;49mpower_set\u001b[0m\u001b[97;49m:\u001b[0m                          \n",
            "    \u001b[1;36m40\u001b[0m   \u001b[1;36m2097152\u001b[0m    \u001b[1;36m1530922.2\u001b[0m      \u001b[1;36m0.7\u001b[0m     \u001b[1;36m64.3\u001b[0m  \u001b[97;49m      \u001b[0m\u001b[96;49mif\u001b[0m\u001b[97;49m \u001b[0m\u001b[97;49msum\u001b[0m\u001b[97;49m(\u001b[0m\u001b[97;49mset\u001b[0m\u001b[97;49m)\u001b[0m\u001b[97;49m \u001b[0m\u001b[91;49m==\u001b[0m\u001b[97;49m \u001b[0m\u001b[97;49m(\u001b[0m\u001b[97;49msum_of_numbers\u001b[0m\u001b[91;49m/\u001b[0m\u001b[91;49m/\u001b[0m\u001b[37;49m2\u001b[0m\u001b[97;49m)\u001b[0m\u001b[97;49m:\u001b[0m          \n",
            "    \u001b[1;36m41\u001b[0m                                           \u001b[97;49m        \u001b[0m\u001b[97;49mprint\u001b[0m\u001b[97;49m(\u001b[0m\u001b[93;49m\"\u001b[0m\u001b[93;49mSolution found!\u001b[0m\u001b[93;49m\"\u001b[0m\u001b[97;49m)\u001b[0m                   \n",
            "    \u001b[1;36m42\u001b[0m                                           \u001b[97;49m        \u001b[0m\u001b[97;49mprint\u001b[0m\u001b[97;49m(\u001b[0m\u001b[93;49m\"\u001b[0m\u001b[93;49mOne partition contains: \u001b[0m\u001b[93;49m\"\u001b[0m\u001b[97;49m,\u001b[0m\u001b[97;49mset\u001b[0m\u001b[97;49m)\u001b[0m      \n",
            "    \u001b[1;36m43\u001b[0m                                           \u001b[97;49m        \u001b[0m\u001b[97;49msolution_found\u001b[0m\u001b[97;49m \u001b[0m\u001b[91;49m=\u001b[0m\u001b[97;49m \u001b[0m\u001b[96;49mTrue\u001b[0m                      \n",
            "    \u001b[1;36m44\u001b[0m                                           \u001b[97;49m        \u001b[0m\u001b[96;49mbreak\u001b[0m                                      \n",
            "    \u001b[1;36m45\u001b[0m         \u001b[1;36m1\u001b[0m          \u001b[1;36m0.9\u001b[0m      \u001b[1;36m0.9\u001b[0m      \u001b[1;36m0.0\u001b[0m  \u001b[97;49m    \u001b[0m\u001b[96;49mif\u001b[0m\u001b[97;49m \u001b[0m\u001b[97;49msolution_found\u001b[0m\u001b[97;49m \u001b[0m\u001b[91;49m==\u001b[0m\u001b[97;49m \u001b[0m\u001b[96;49mFalse\u001b[0m\u001b[97;49m:\u001b[0m                    \n",
            "    \u001b[1;36m46\u001b[0m         \u001b[1;36m1\u001b[0m         \u001b[1;36m45.8\u001b[0m     \u001b[1;36m45.8\u001b[0m      \u001b[1;36m0.0\u001b[0m  \u001b[97;49m      \u001b[0m\u001b[97;49mprint\u001b[0m\u001b[97;49m(\u001b[0m\u001b[93;49m\"\u001b[0m\u001b[93;49mThis instance does not have a solutio…\u001b[0m\n",
            "    \u001b[1;36m47\u001b[0m                                                                                              \n",
            "    \u001b[1;36m48\u001b[0m         \u001b[1;36m1\u001b[0m          \u001b[1;36m3.4\u001b[0m      \u001b[1;36m3.4\u001b[0m      \u001b[1;36m0.0\u001b[0m  \u001b[97;49m  \u001b[0m\u001b[97;49mend_time\u001b[0m\u001b[97;49m \u001b[0m\u001b[91;49m=\u001b[0m\u001b[97;49m \u001b[0m\u001b[97;49mtime\u001b[0m\u001b[91;49m.\u001b[0m\u001b[97;49mtime\u001b[0m\u001b[97;49m(\u001b[0m\u001b[97;49m)\u001b[0m                           \n",
            "    \u001b[1;36m49\u001b[0m         \u001b[1;36m1\u001b[0m          \u001b[1;36m2.0\u001b[0m      \u001b[1;36m2.0\u001b[0m      \u001b[1;36m0.0\u001b[0m  \u001b[97;49m  \u001b[0m\u001b[97;49melapsed_time\u001b[0m\u001b[97;49m \u001b[0m\u001b[91;49m=\u001b[0m\u001b[97;49m \u001b[0m\u001b[97;49mend_time\u001b[0m\u001b[97;49m \u001b[0m\u001b[91;49m-\u001b[0m\u001b[97;49m \u001b[0m\u001b[97;49mstart_time\u001b[0m             \n",
            "    \u001b[1;36m50\u001b[0m         \u001b[1;36m1\u001b[0m         \u001b[1;36m23.1\u001b[0m     \u001b[1;36m23.1\u001b[0m      \u001b[1;36m0.0\u001b[0m  \u001b[97;49m  \u001b[0m\u001b[97;49mprint\u001b[0m\u001b[97;49m(\u001b[0m\u001b[93;49m\"\u001b[0m\u001b[93;49mThe program took: \u001b[0m\u001b[93;49m\"\u001b[0m\u001b[97;49m,\u001b[0m\u001b[97;49melapsed_time\u001b[0m\u001b[97;49m,\u001b[0m\u001b[93;49m\"\u001b[0m\u001b[93;49m second…\u001b[0m\n",
            "\n",
            "\n",
            "  2.38 seconds - partition_profile.py:20 - partition\n"
          ]
        }
      ]
    },
    {
      "cell_type": "code",
      "source": [
        "!kernprof -l partition_profile.py < no_solution_22.Text"
      ],
      "metadata": {
        "colab": {
          "base_uri": "https://localhost:8080/"
        },
        "id": "-6tGbV4KYLjK",
        "outputId": "65385b98-e2f9-4621-a61e-e25ee3c55bd8"
      },
      "execution_count": 46,
      "outputs": [
        {
          "output_type": "stream",
          "name": "stdout",
          "text": [
            "Problem size:  22\n",
            "Problem instance:  [1, 1, 1, 1, 1, 1, 1, 1, 1, 1, 1, 1, 1, 1, 1, 1, 1, 1, 1, 1, 1, 23]\n",
            "This instance does not have a solution\n",
            "The program took:  7.680795907974243  seconds.\n",
            "Wrote profile results to partition_profile.py.lprof\n",
            "Inspect results with:\n",
            "python3 -m line_profiler -rmt \"partition_profile.py.lprof\"\n"
          ]
        }
      ]
    },
    {
      "cell_type": "code",
      "source": [
        "!python3 -m line_profiler -rmt \"partition_profile.py.lprof\""
      ],
      "metadata": {
        "colab": {
          "base_uri": "https://localhost:8080/"
        },
        "id": "ofymq0qBYSly",
        "outputId": "fe5ecf5c-0516-470d-9d98-830e1151cba6"
      },
      "execution_count": 47,
      "outputs": [
        {
          "output_type": "stream",
          "name": "stdout",
          "text": [
            "Timer unit: 1e-06 s\n",
            "\n",
            "Total time: 4.33283 s\n",
            "File: partition_profile.py\n",
            "Function: partition at line 20\n",
            "\n",
            "Line #      Hits         Time  Per Hit   % Time  Line Contents\n",
            "==============================================================\n",
            "    \u001b[1;36m20\u001b[0m                                           \u001b[92;49m@profile\u001b[0m                                           \n",
            "    \u001b[1;36m21\u001b[0m                                           \u001b[96;49mdef\u001b[0m\u001b[97;49m \u001b[0m\u001b[92;49mpartition\u001b[0m\u001b[97;49m(\u001b[0m\u001b[97;49m)\u001b[0m\u001b[97;49m:\u001b[0m                                   \n",
            "    \u001b[1;36m22\u001b[0m         \u001b[1;36m1\u001b[0m          \u001b[1;36m2.9\u001b[0m      \u001b[1;36m2.9\u001b[0m      \u001b[1;36m0.0\u001b[0m  \u001b[97;49m  \u001b[0m\u001b[97;49mstart_time\u001b[0m\u001b[97;49m \u001b[0m\u001b[91;49m=\u001b[0m\u001b[97;49m \u001b[0m\u001b[97;49mtime\u001b[0m\u001b[91;49m.\u001b[0m\u001b[97;49mtime\u001b[0m\u001b[97;49m(\u001b[0m\u001b[97;49m)\u001b[0m                         \n",
            "    \u001b[1;36m23\u001b[0m                                           \u001b[97;49m  \u001b[0m\u001b[37;49m# Read the problem\u001b[0m                               \n",
            "    \u001b[1;36m24\u001b[0m         \u001b[1;36m1\u001b[0m         \u001b[1;36m42.7\u001b[0m     \u001b[1;36m42.7\u001b[0m      \u001b[1;36m0.0\u001b[0m  \u001b[97;49m  \u001b[0m\u001b[97;49mn\u001b[0m\u001b[97;49m \u001b[0m\u001b[91;49m=\u001b[0m\u001b[97;49m \u001b[0m\u001b[97;49mint\u001b[0m\u001b[97;49m(\u001b[0m\u001b[97;49minput\u001b[0m\u001b[97;49m(\u001b[0m\u001b[97;49m)\u001b[0m\u001b[97;49m)\u001b[0m                                 \n",
            "    \u001b[1;36m25\u001b[0m         \u001b[1;36m1\u001b[0m          \u001b[1;36m1.9\u001b[0m      \u001b[1;36m1.9\u001b[0m      \u001b[1;36m0.0\u001b[0m  \u001b[97;49m  \u001b[0m\u001b[97;49mvaluesString\u001b[0m\u001b[97;49m \u001b[0m\u001b[91;49m=\u001b[0m\u001b[97;49m \u001b[0m\u001b[97;49minput\u001b[0m\u001b[97;49m(\u001b[0m\u001b[97;49m)\u001b[0m                           \n",
            "    \u001b[1;36m26\u001b[0m         \u001b[1;36m1\u001b[0m          \u001b[1;36m3.0\u001b[0m      \u001b[1;36m3.0\u001b[0m      \u001b[1;36m0.0\u001b[0m  \u001b[97;49m  \u001b[0m\u001b[97;49mvalues\u001b[0m\u001b[97;49m \u001b[0m\u001b[91;49m=\u001b[0m\u001b[97;49m \u001b[0m\u001b[97;49mvaluesString\u001b[0m\u001b[91;49m.\u001b[0m\u001b[97;49msplit\u001b[0m\u001b[97;49m(\u001b[0m\u001b[97;49m)\u001b[0m                    \n",
            "    \u001b[1;36m27\u001b[0m        \u001b[1;36m23\u001b[0m          \u001b[1;36m8.1\u001b[0m      \u001b[1;36m0.4\u001b[0m      \u001b[1;36m0.0\u001b[0m  \u001b[97;49m  \u001b[0m\u001b[96;49mfor\u001b[0m\u001b[97;49m \u001b[0m\u001b[97;49mi\u001b[0m\u001b[97;49m \u001b[0m\u001b[91;49min\u001b[0m\u001b[97;49m \u001b[0m\u001b[97;49mrange\u001b[0m\u001b[97;49m(\u001b[0m\u001b[97;49mlen\u001b[0m\u001b[97;49m(\u001b[0m\u001b[97;49mvalues\u001b[0m\u001b[97;49m)\u001b[0m\u001b[97;49m)\u001b[0m\u001b[97;49m:\u001b[0m                     \n",
            "    \u001b[1;36m28\u001b[0m        \u001b[1;36m22\u001b[0m         \u001b[1;36m11.7\u001b[0m      \u001b[1;36m0.5\u001b[0m      \u001b[1;36m0.0\u001b[0m  \u001b[97;49m    \u001b[0m\u001b[97;49mvalues\u001b[0m\u001b[97;49m[\u001b[0m\u001b[97;49mi\u001b[0m\u001b[97;49m]\u001b[0m\u001b[97;49m \u001b[0m\u001b[91;49m=\u001b[0m\u001b[97;49m \u001b[0m\u001b[97;49mint\u001b[0m\u001b[97;49m(\u001b[0m\u001b[97;49mvalues\u001b[0m\u001b[97;49m[\u001b[0m\u001b[97;49mi\u001b[0m\u001b[97;49m]\u001b[0m\u001b[97;49m)\u001b[0m                     \n",
            "    \u001b[1;36m29\u001b[0m                                           \u001b[97;49m  \u001b[0m\u001b[37;49m# Print the instance of the problem\u001b[0m              \n",
            "    \u001b[1;36m30\u001b[0m         \u001b[1;36m1\u001b[0m         \u001b[1;36m28.6\u001b[0m     \u001b[1;36m28.6\u001b[0m      \u001b[1;36m0.0\u001b[0m  \u001b[97;49m  \u001b[0m\u001b[97;49mprint\u001b[0m\u001b[97;49m(\u001b[0m\u001b[93;49m\"\u001b[0m\u001b[93;49mProblem size: \u001b[0m\u001b[93;49m\"\u001b[0m\u001b[97;49m,\u001b[0m\u001b[97;49mn\u001b[0m\u001b[97;49m)\u001b[0m                        \n",
            "    \u001b[1;36m31\u001b[0m         \u001b[1;36m1\u001b[0m         \u001b[1;36m12.8\u001b[0m     \u001b[1;36m12.8\u001b[0m      \u001b[1;36m0.0\u001b[0m  \u001b[97;49m  \u001b[0m\u001b[97;49mprint\u001b[0m\u001b[97;49m(\u001b[0m\u001b[93;49m\"\u001b[0m\u001b[93;49mProblem instance: \u001b[0m\u001b[93;49m\"\u001b[0m\u001b[97;49m,\u001b[0m\u001b[97;49mvalues\u001b[0m\u001b[97;49m)\u001b[0m               \n",
            "    \u001b[1;36m32\u001b[0m                                                                                              \n",
            "    \u001b[1;36m33\u001b[0m         \u001b[1;36m1\u001b[0m          \u001b[1;36m1.9\u001b[0m      \u001b[1;36m1.9\u001b[0m      \u001b[1;36m0.0\u001b[0m  \u001b[97;49m  \u001b[0m\u001b[97;49msum_of_numbers\u001b[0m\u001b[97;49m \u001b[0m\u001b[91;49m=\u001b[0m\u001b[97;49m \u001b[0m\u001b[97;49msum\u001b[0m\u001b[97;49m(\u001b[0m\u001b[97;49mvalues\u001b[0m\u001b[97;49m)\u001b[0m                     \n",
            "    \u001b[1;36m34\u001b[0m         \u001b[1;36m1\u001b[0m          \u001b[1;36m0.9\u001b[0m      \u001b[1;36m0.9\u001b[0m      \u001b[1;36m0.0\u001b[0m  \u001b[97;49m  \u001b[0m\u001b[96;49mif\u001b[0m\u001b[97;49m \u001b[0m\u001b[97;49msum_of_numbers\u001b[0m\u001b[97;49m \u001b[0m\u001b[91;49m%\u001b[0m\u001b[97;49m \u001b[0m\u001b[37;49m2\u001b[0m\u001b[97;49m \u001b[0m\u001b[91;49m==\u001b[0m\u001b[97;49m \u001b[0m\u001b[37;49m1\u001b[0m\u001b[97;49m:\u001b[0m                      \n",
            "    \u001b[1;36m35\u001b[0m                                           \u001b[97;49m    \u001b[0m\u001b[97;49mprint\u001b[0m\u001b[97;49m(\u001b[0m\u001b[93;49m\"\u001b[0m\u001b[93;49mThis instance does not have a solution\u001b[0m\u001b[93;49m\"\u001b[0m\u001b[97;49m)\u001b[0m\n",
            "    \u001b[1;36m36\u001b[0m                                           \u001b[97;49m  \u001b[0m\u001b[96;49melse\u001b[0m\u001b[97;49m:\u001b[0m                                            \n",
            "    \u001b[1;36m37\u001b[0m         \u001b[1;36m1\u001b[0m          \u001b[1;36m9.0\u001b[0m      \u001b[1;36m9.0\u001b[0m      \u001b[1;36m0.0\u001b[0m  \u001b[97;49m    \u001b[0m\u001b[97;49mpower_set\u001b[0m\u001b[97;49m \u001b[0m\u001b[91;49m=\u001b[0m\u001b[97;49m \u001b[0m\u001b[97;49mpowerset\u001b[0m\u001b[97;49m(\u001b[0m\u001b[97;49mvalues\u001b[0m\u001b[97;49m)\u001b[0m                   \n",
            "    \u001b[1;36m38\u001b[0m         \u001b[1;36m1\u001b[0m          \u001b[1;36m0.2\u001b[0m      \u001b[1;36m0.2\u001b[0m      \u001b[1;36m0.0\u001b[0m  \u001b[97;49m    \u001b[0m\u001b[97;49msolution_found\u001b[0m\u001b[97;49m \u001b[0m\u001b[91;49m=\u001b[0m\u001b[97;49m \u001b[0m\u001b[96;49mFalse\u001b[0m                         \n",
            "    \u001b[1;36m39\u001b[0m   \u001b[1;36m4194305\u001b[0m    \u001b[1;36m1569321.5\u001b[0m      \u001b[1;36m0.4\u001b[0m     \u001b[1;36m36.2\u001b[0m  \u001b[97;49m    \u001b[0m\u001b[96;49mfor\u001b[0m\u001b[97;49m \u001b[0m\u001b[97;49mset\u001b[0m\u001b[97;49m \u001b[0m\u001b[91;49min\u001b[0m\u001b[97;49m \u001b[0m\u001b[97;49mpower_set\u001b[0m\u001b[97;49m:\u001b[0m                          \n",
            "    \u001b[1;36m40\u001b[0m   \u001b[1;36m4194304\u001b[0m    \u001b[1;36m2763312.2\u001b[0m      \u001b[1;36m0.7\u001b[0m     \u001b[1;36m63.8\u001b[0m  \u001b[97;49m      \u001b[0m\u001b[96;49mif\u001b[0m\u001b[97;49m \u001b[0m\u001b[97;49msum\u001b[0m\u001b[97;49m(\u001b[0m\u001b[97;49mset\u001b[0m\u001b[97;49m)\u001b[0m\u001b[97;49m \u001b[0m\u001b[91;49m==\u001b[0m\u001b[97;49m \u001b[0m\u001b[97;49m(\u001b[0m\u001b[97;49msum_of_numbers\u001b[0m\u001b[91;49m/\u001b[0m\u001b[91;49m/\u001b[0m\u001b[37;49m2\u001b[0m\u001b[97;49m)\u001b[0m\u001b[97;49m:\u001b[0m          \n",
            "    \u001b[1;36m41\u001b[0m                                           \u001b[97;49m        \u001b[0m\u001b[97;49mprint\u001b[0m\u001b[97;49m(\u001b[0m\u001b[93;49m\"\u001b[0m\u001b[93;49mSolution found!\u001b[0m\u001b[93;49m\"\u001b[0m\u001b[97;49m)\u001b[0m                   \n",
            "    \u001b[1;36m42\u001b[0m                                           \u001b[97;49m        \u001b[0m\u001b[97;49mprint\u001b[0m\u001b[97;49m(\u001b[0m\u001b[93;49m\"\u001b[0m\u001b[93;49mOne partition contains: \u001b[0m\u001b[93;49m\"\u001b[0m\u001b[97;49m,\u001b[0m\u001b[97;49mset\u001b[0m\u001b[97;49m)\u001b[0m      \n",
            "    \u001b[1;36m43\u001b[0m                                           \u001b[97;49m        \u001b[0m\u001b[97;49msolution_found\u001b[0m\u001b[97;49m \u001b[0m\u001b[91;49m=\u001b[0m\u001b[97;49m \u001b[0m\u001b[96;49mTrue\u001b[0m                      \n",
            "    \u001b[1;36m44\u001b[0m                                           \u001b[97;49m        \u001b[0m\u001b[96;49mbreak\u001b[0m                                      \n",
            "    \u001b[1;36m45\u001b[0m         \u001b[1;36m1\u001b[0m          \u001b[1;36m0.8\u001b[0m      \u001b[1;36m0.8\u001b[0m      \u001b[1;36m0.0\u001b[0m  \u001b[97;49m    \u001b[0m\u001b[96;49mif\u001b[0m\u001b[97;49m \u001b[0m\u001b[97;49msolution_found\u001b[0m\u001b[97;49m \u001b[0m\u001b[91;49m==\u001b[0m\u001b[97;49m \u001b[0m\u001b[96;49mFalse\u001b[0m\u001b[97;49m:\u001b[0m                    \n",
            "    \u001b[1;36m46\u001b[0m         \u001b[1;36m1\u001b[0m         \u001b[1;36m39.9\u001b[0m     \u001b[1;36m39.9\u001b[0m      \u001b[1;36m0.0\u001b[0m  \u001b[97;49m      \u001b[0m\u001b[97;49mprint\u001b[0m\u001b[97;49m(\u001b[0m\u001b[93;49m\"\u001b[0m\u001b[93;49mThis instance does not have a solutio…\u001b[0m\n",
            "    \u001b[1;36m47\u001b[0m                                                                                              \n",
            "    \u001b[1;36m48\u001b[0m         \u001b[1;36m1\u001b[0m          \u001b[1;36m6.7\u001b[0m      \u001b[1;36m6.7\u001b[0m      \u001b[1;36m0.0\u001b[0m  \u001b[97;49m  \u001b[0m\u001b[97;49mend_time\u001b[0m\u001b[97;49m \u001b[0m\u001b[91;49m=\u001b[0m\u001b[97;49m \u001b[0m\u001b[97;49mtime\u001b[0m\u001b[91;49m.\u001b[0m\u001b[97;49mtime\u001b[0m\u001b[97;49m(\u001b[0m\u001b[97;49m)\u001b[0m                           \n",
            "    \u001b[1;36m49\u001b[0m         \u001b[1;36m1\u001b[0m          \u001b[1;36m0.9\u001b[0m      \u001b[1;36m0.9\u001b[0m      \u001b[1;36m0.0\u001b[0m  \u001b[97;49m  \u001b[0m\u001b[97;49melapsed_time\u001b[0m\u001b[97;49m \u001b[0m\u001b[91;49m=\u001b[0m\u001b[97;49m \u001b[0m\u001b[97;49mend_time\u001b[0m\u001b[97;49m \u001b[0m\u001b[91;49m-\u001b[0m\u001b[97;49m \u001b[0m\u001b[97;49mstart_time\u001b[0m             \n",
            "    \u001b[1;36m50\u001b[0m         \u001b[1;36m1\u001b[0m         \u001b[1;36m20.0\u001b[0m     \u001b[1;36m20.0\u001b[0m      \u001b[1;36m0.0\u001b[0m  \u001b[97;49m  \u001b[0m\u001b[97;49mprint\u001b[0m\u001b[97;49m(\u001b[0m\u001b[93;49m\"\u001b[0m\u001b[93;49mThe program took: \u001b[0m\u001b[93;49m\"\u001b[0m\u001b[97;49m,\u001b[0m\u001b[97;49melapsed_time\u001b[0m\u001b[97;49m,\u001b[0m\u001b[93;49m\"\u001b[0m\u001b[93;49m second…\u001b[0m\n",
            "\n",
            "\n",
            "  4.33 seconds - partition_profile.py:20 - partition\n"
          ]
        }
      ]
    },
    {
      "cell_type": "code",
      "source": [
        "!kernprof -l partition_profile.py < no_solution_23.Text"
      ],
      "metadata": {
        "colab": {
          "base_uri": "https://localhost:8080/"
        },
        "id": "tMEc3JnHYaR7",
        "outputId": "5234610e-dd59-4439-b61d-06b41343d9be"
      },
      "execution_count": 48,
      "outputs": [
        {
          "output_type": "stream",
          "name": "stdout",
          "text": [
            "Problem size:  23\n",
            "Problem instance:  [1, 1, 1, 1, 1, 1, 1, 1, 1, 1, 1, 1, 1, 1, 1, 1, 1, 1, 1, 1, 1, 1, 24]\n",
            "This instance does not have a solution\n",
            "The program took:  14.124934434890747  seconds.\n",
            "Wrote profile results to partition_profile.py.lprof\n",
            "Inspect results with:\n",
            "python3 -m line_profiler -rmt \"partition_profile.py.lprof\"\n"
          ]
        }
      ]
    },
    {
      "cell_type": "code",
      "source": [
        "!python3 -m line_profiler -rmt \"partition_profile.py.lprof\""
      ],
      "metadata": {
        "colab": {
          "base_uri": "https://localhost:8080/"
        },
        "id": "CzEm21VeYhBb",
        "outputId": "2ba74133-cf8f-4af0-f5c4-6ed6c75492be"
      },
      "execution_count": 49,
      "outputs": [
        {
          "output_type": "stream",
          "name": "stdout",
          "text": [
            "Timer unit: 1e-06 s\n",
            "\n",
            "Total time: 7.86419 s\n",
            "File: partition_profile.py\n",
            "Function: partition at line 20\n",
            "\n",
            "Line #      Hits         Time  Per Hit   % Time  Line Contents\n",
            "==============================================================\n",
            "    \u001b[1;36m20\u001b[0m                                           \u001b[92;49m@profile\u001b[0m                                           \n",
            "    \u001b[1;36m21\u001b[0m                                           \u001b[96;49mdef\u001b[0m\u001b[97;49m \u001b[0m\u001b[92;49mpartition\u001b[0m\u001b[97;49m(\u001b[0m\u001b[97;49m)\u001b[0m\u001b[97;49m:\u001b[0m                                   \n",
            "    \u001b[1;36m22\u001b[0m         \u001b[1;36m1\u001b[0m          \u001b[1;36m2.8\u001b[0m      \u001b[1;36m2.8\u001b[0m      \u001b[1;36m0.0\u001b[0m  \u001b[97;49m  \u001b[0m\u001b[97;49mstart_time\u001b[0m\u001b[97;49m \u001b[0m\u001b[91;49m=\u001b[0m\u001b[97;49m \u001b[0m\u001b[97;49mtime\u001b[0m\u001b[91;49m.\u001b[0m\u001b[97;49mtime\u001b[0m\u001b[97;49m(\u001b[0m\u001b[97;49m)\u001b[0m                         \n",
            "    \u001b[1;36m23\u001b[0m                                           \u001b[97;49m  \u001b[0m\u001b[37;49m# Read the problem\u001b[0m                               \n",
            "    \u001b[1;36m24\u001b[0m         \u001b[1;36m1\u001b[0m         \u001b[1;36m41.0\u001b[0m     \u001b[1;36m41.0\u001b[0m      \u001b[1;36m0.0\u001b[0m  \u001b[97;49m  \u001b[0m\u001b[97;49mn\u001b[0m\u001b[97;49m \u001b[0m\u001b[91;49m=\u001b[0m\u001b[97;49m \u001b[0m\u001b[97;49mint\u001b[0m\u001b[97;49m(\u001b[0m\u001b[97;49minput\u001b[0m\u001b[97;49m(\u001b[0m\u001b[97;49m)\u001b[0m\u001b[97;49m)\u001b[0m                                 \n",
            "    \u001b[1;36m25\u001b[0m         \u001b[1;36m1\u001b[0m          \u001b[1;36m2.1\u001b[0m      \u001b[1;36m2.1\u001b[0m      \u001b[1;36m0.0\u001b[0m  \u001b[97;49m  \u001b[0m\u001b[97;49mvaluesString\u001b[0m\u001b[97;49m \u001b[0m\u001b[91;49m=\u001b[0m\u001b[97;49m \u001b[0m\u001b[97;49minput\u001b[0m\u001b[97;49m(\u001b[0m\u001b[97;49m)\u001b[0m                           \n",
            "    \u001b[1;36m26\u001b[0m         \u001b[1;36m1\u001b[0m          \u001b[1;36m3.0\u001b[0m      \u001b[1;36m3.0\u001b[0m      \u001b[1;36m0.0\u001b[0m  \u001b[97;49m  \u001b[0m\u001b[97;49mvalues\u001b[0m\u001b[97;49m \u001b[0m\u001b[91;49m=\u001b[0m\u001b[97;49m \u001b[0m\u001b[97;49mvaluesString\u001b[0m\u001b[91;49m.\u001b[0m\u001b[97;49msplit\u001b[0m\u001b[97;49m(\u001b[0m\u001b[97;49m)\u001b[0m                    \n",
            "    \u001b[1;36m27\u001b[0m        \u001b[1;36m24\u001b[0m          \u001b[1;36m7.6\u001b[0m      \u001b[1;36m0.3\u001b[0m      \u001b[1;36m0.0\u001b[0m  \u001b[97;49m  \u001b[0m\u001b[96;49mfor\u001b[0m\u001b[97;49m \u001b[0m\u001b[97;49mi\u001b[0m\u001b[97;49m \u001b[0m\u001b[91;49min\u001b[0m\u001b[97;49m \u001b[0m\u001b[97;49mrange\u001b[0m\u001b[97;49m(\u001b[0m\u001b[97;49mlen\u001b[0m\u001b[97;49m(\u001b[0m\u001b[97;49mvalues\u001b[0m\u001b[97;49m)\u001b[0m\u001b[97;49m)\u001b[0m\u001b[97;49m:\u001b[0m                     \n",
            "    \u001b[1;36m28\u001b[0m        \u001b[1;36m23\u001b[0m         \u001b[1;36m12.4\u001b[0m      \u001b[1;36m0.5\u001b[0m      \u001b[1;36m0.0\u001b[0m  \u001b[97;49m    \u001b[0m\u001b[97;49mvalues\u001b[0m\u001b[97;49m[\u001b[0m\u001b[97;49mi\u001b[0m\u001b[97;49m]\u001b[0m\u001b[97;49m \u001b[0m\u001b[91;49m=\u001b[0m\u001b[97;49m \u001b[0m\u001b[97;49mint\u001b[0m\u001b[97;49m(\u001b[0m\u001b[97;49mvalues\u001b[0m\u001b[97;49m[\u001b[0m\u001b[97;49mi\u001b[0m\u001b[97;49m]\u001b[0m\u001b[97;49m)\u001b[0m                     \n",
            "    \u001b[1;36m29\u001b[0m                                           \u001b[97;49m  \u001b[0m\u001b[37;49m# Print the instance of the problem\u001b[0m              \n",
            "    \u001b[1;36m30\u001b[0m         \u001b[1;36m1\u001b[0m         \u001b[1;36m24.8\u001b[0m     \u001b[1;36m24.8\u001b[0m      \u001b[1;36m0.0\u001b[0m  \u001b[97;49m  \u001b[0m\u001b[97;49mprint\u001b[0m\u001b[97;49m(\u001b[0m\u001b[93;49m\"\u001b[0m\u001b[93;49mProblem size: \u001b[0m\u001b[93;49m\"\u001b[0m\u001b[97;49m,\u001b[0m\u001b[97;49mn\u001b[0m\u001b[97;49m)\u001b[0m                        \n",
            "    \u001b[1;36m31\u001b[0m         \u001b[1;36m1\u001b[0m         \u001b[1;36m13.4\u001b[0m     \u001b[1;36m13.4\u001b[0m      \u001b[1;36m0.0\u001b[0m  \u001b[97;49m  \u001b[0m\u001b[97;49mprint\u001b[0m\u001b[97;49m(\u001b[0m\u001b[93;49m\"\u001b[0m\u001b[93;49mProblem instance: \u001b[0m\u001b[93;49m\"\u001b[0m\u001b[97;49m,\u001b[0m\u001b[97;49mvalues\u001b[0m\u001b[97;49m)\u001b[0m               \n",
            "    \u001b[1;36m32\u001b[0m                                                                                              \n",
            "    \u001b[1;36m33\u001b[0m         \u001b[1;36m1\u001b[0m          \u001b[1;36m2.0\u001b[0m      \u001b[1;36m2.0\u001b[0m      \u001b[1;36m0.0\u001b[0m  \u001b[97;49m  \u001b[0m\u001b[97;49msum_of_numbers\u001b[0m\u001b[97;49m \u001b[0m\u001b[91;49m=\u001b[0m\u001b[97;49m \u001b[0m\u001b[97;49msum\u001b[0m\u001b[97;49m(\u001b[0m\u001b[97;49mvalues\u001b[0m\u001b[97;49m)\u001b[0m                     \n",
            "    \u001b[1;36m34\u001b[0m         \u001b[1;36m1\u001b[0m          \u001b[1;36m0.8\u001b[0m      \u001b[1;36m0.8\u001b[0m      \u001b[1;36m0.0\u001b[0m  \u001b[97;49m  \u001b[0m\u001b[96;49mif\u001b[0m\u001b[97;49m \u001b[0m\u001b[97;49msum_of_numbers\u001b[0m\u001b[97;49m \u001b[0m\u001b[91;49m%\u001b[0m\u001b[97;49m \u001b[0m\u001b[37;49m2\u001b[0m\u001b[97;49m \u001b[0m\u001b[91;49m==\u001b[0m\u001b[97;49m \u001b[0m\u001b[37;49m1\u001b[0m\u001b[97;49m:\u001b[0m                      \n",
            "    \u001b[1;36m35\u001b[0m                                           \u001b[97;49m    \u001b[0m\u001b[97;49mprint\u001b[0m\u001b[97;49m(\u001b[0m\u001b[93;49m\"\u001b[0m\u001b[93;49mThis instance does not have a solution\u001b[0m\u001b[93;49m\"\u001b[0m\u001b[97;49m)\u001b[0m\n",
            "    \u001b[1;36m36\u001b[0m                                           \u001b[97;49m  \u001b[0m\u001b[96;49melse\u001b[0m\u001b[97;49m:\u001b[0m                                            \n",
            "    \u001b[1;36m37\u001b[0m         \u001b[1;36m1\u001b[0m          \u001b[1;36m8.5\u001b[0m      \u001b[1;36m8.5\u001b[0m      \u001b[1;36m0.0\u001b[0m  \u001b[97;49m    \u001b[0m\u001b[97;49mpower_set\u001b[0m\u001b[97;49m \u001b[0m\u001b[91;49m=\u001b[0m\u001b[97;49m \u001b[0m\u001b[97;49mpowerset\u001b[0m\u001b[97;49m(\u001b[0m\u001b[97;49mvalues\u001b[0m\u001b[97;49m)\u001b[0m                   \n",
            "    \u001b[1;36m38\u001b[0m         \u001b[1;36m1\u001b[0m          \u001b[1;36m0.2\u001b[0m      \u001b[1;36m0.2\u001b[0m      \u001b[1;36m0.0\u001b[0m  \u001b[97;49m    \u001b[0m\u001b[97;49msolution_found\u001b[0m\u001b[97;49m \u001b[0m\u001b[91;49m=\u001b[0m\u001b[97;49m \u001b[0m\u001b[96;49mFalse\u001b[0m                         \n",
            "    \u001b[1;36m39\u001b[0m   \u001b[1;36m8388609\u001b[0m    \u001b[1;36m2831507.2\u001b[0m      \u001b[1;36m0.3\u001b[0m     \u001b[1;36m36.0\u001b[0m  \u001b[97;49m    \u001b[0m\u001b[96;49mfor\u001b[0m\u001b[97;49m \u001b[0m\u001b[97;49mset\u001b[0m\u001b[97;49m \u001b[0m\u001b[91;49min\u001b[0m\u001b[97;49m \u001b[0m\u001b[97;49mpower_set\u001b[0m\u001b[97;49m:\u001b[0m                          \n",
            "    \u001b[1;36m40\u001b[0m   \u001b[1;36m8388608\u001b[0m    \u001b[1;36m5032501.2\u001b[0m      \u001b[1;36m0.6\u001b[0m     \u001b[1;36m64.0\u001b[0m  \u001b[97;49m      \u001b[0m\u001b[96;49mif\u001b[0m\u001b[97;49m \u001b[0m\u001b[97;49msum\u001b[0m\u001b[97;49m(\u001b[0m\u001b[97;49mset\u001b[0m\u001b[97;49m)\u001b[0m\u001b[97;49m \u001b[0m\u001b[91;49m==\u001b[0m\u001b[97;49m \u001b[0m\u001b[97;49m(\u001b[0m\u001b[97;49msum_of_numbers\u001b[0m\u001b[91;49m/\u001b[0m\u001b[91;49m/\u001b[0m\u001b[37;49m2\u001b[0m\u001b[97;49m)\u001b[0m\u001b[97;49m:\u001b[0m          \n",
            "    \u001b[1;36m41\u001b[0m                                           \u001b[97;49m        \u001b[0m\u001b[97;49mprint\u001b[0m\u001b[97;49m(\u001b[0m\u001b[93;49m\"\u001b[0m\u001b[93;49mSolution found!\u001b[0m\u001b[93;49m\"\u001b[0m\u001b[97;49m)\u001b[0m                   \n",
            "    \u001b[1;36m42\u001b[0m                                           \u001b[97;49m        \u001b[0m\u001b[97;49mprint\u001b[0m\u001b[97;49m(\u001b[0m\u001b[93;49m\"\u001b[0m\u001b[93;49mOne partition contains: \u001b[0m\u001b[93;49m\"\u001b[0m\u001b[97;49m,\u001b[0m\u001b[97;49mset\u001b[0m\u001b[97;49m)\u001b[0m      \n",
            "    \u001b[1;36m43\u001b[0m                                           \u001b[97;49m        \u001b[0m\u001b[97;49msolution_found\u001b[0m\u001b[97;49m \u001b[0m\u001b[91;49m=\u001b[0m\u001b[97;49m \u001b[0m\u001b[96;49mTrue\u001b[0m                      \n",
            "    \u001b[1;36m44\u001b[0m                                           \u001b[97;49m        \u001b[0m\u001b[96;49mbreak\u001b[0m                                      \n",
            "    \u001b[1;36m45\u001b[0m         \u001b[1;36m1\u001b[0m          \u001b[1;36m0.5\u001b[0m      \u001b[1;36m0.5\u001b[0m      \u001b[1;36m0.0\u001b[0m  \u001b[97;49m    \u001b[0m\u001b[96;49mif\u001b[0m\u001b[97;49m \u001b[0m\u001b[97;49msolution_found\u001b[0m\u001b[97;49m \u001b[0m\u001b[91;49m==\u001b[0m\u001b[97;49m \u001b[0m\u001b[96;49mFalse\u001b[0m\u001b[97;49m:\u001b[0m                    \n",
            "    \u001b[1;36m46\u001b[0m         \u001b[1;36m1\u001b[0m         \u001b[1;36m37.3\u001b[0m     \u001b[1;36m37.3\u001b[0m      \u001b[1;36m0.0\u001b[0m  \u001b[97;49m      \u001b[0m\u001b[97;49mprint\u001b[0m\u001b[97;49m(\u001b[0m\u001b[93;49m\"\u001b[0m\u001b[93;49mThis instance does not have a solutio…\u001b[0m\n",
            "    \u001b[1;36m47\u001b[0m                                                                                              \n",
            "    \u001b[1;36m48\u001b[0m         \u001b[1;36m1\u001b[0m          \u001b[1;36m6.4\u001b[0m      \u001b[1;36m6.4\u001b[0m      \u001b[1;36m0.0\u001b[0m  \u001b[97;49m  \u001b[0m\u001b[97;49mend_time\u001b[0m\u001b[97;49m \u001b[0m\u001b[91;49m=\u001b[0m\u001b[97;49m \u001b[0m\u001b[97;49mtime\u001b[0m\u001b[91;49m.\u001b[0m\u001b[97;49mtime\u001b[0m\u001b[97;49m(\u001b[0m\u001b[97;49m)\u001b[0m                           \n",
            "    \u001b[1;36m49\u001b[0m         \u001b[1;36m1\u001b[0m          \u001b[1;36m0.9\u001b[0m      \u001b[1;36m0.9\u001b[0m      \u001b[1;36m0.0\u001b[0m  \u001b[97;49m  \u001b[0m\u001b[97;49melapsed_time\u001b[0m\u001b[97;49m \u001b[0m\u001b[91;49m=\u001b[0m\u001b[97;49m \u001b[0m\u001b[97;49mend_time\u001b[0m\u001b[97;49m \u001b[0m\u001b[91;49m-\u001b[0m\u001b[97;49m \u001b[0m\u001b[97;49mstart_time\u001b[0m             \n",
            "    \u001b[1;36m50\u001b[0m         \u001b[1;36m1\u001b[0m         \u001b[1;36m19.9\u001b[0m     \u001b[1;36m19.9\u001b[0m      \u001b[1;36m0.0\u001b[0m  \u001b[97;49m  \u001b[0m\u001b[97;49mprint\u001b[0m\u001b[97;49m(\u001b[0m\u001b[93;49m\"\u001b[0m\u001b[93;49mThe program took: \u001b[0m\u001b[93;49m\"\u001b[0m\u001b[97;49m,\u001b[0m\u001b[97;49melapsed_time\u001b[0m\u001b[97;49m,\u001b[0m\u001b[93;49m\"\u001b[0m\u001b[93;49m second…\u001b[0m\n",
            "\n",
            "\n",
            "  7.86 seconds - partition_profile.py:20 - partition\n"
          ]
        }
      ]
    },
    {
      "cell_type": "markdown",
      "source": [
        "Recall the python notebook that we looked at in class on January 9:\n",
        " https://github.com/trefftzc/cis263/blob/main/Profiling_matrix_multiplication.ipynb\n",
        "\n",
        " At the end you will find python code that can be used to produce plots.\n",
        "\n",
        " Produce the following four plots:\n",
        " 1. For the instances with a solution: On the x axis the size of the instance, on the y axis the execution time.\n",
        " 2. For the instances with a solution: On the x axis the size of the instance, on the y axis the number of times that line 40 was executed in the program that was used for profiling\n",
        " 3. For the instances with no solution: On the x axis the size of the instance, on the y axis the execution time.\n",
        " 4. For the instances with no solution: On the x axis the size of the instance, on the y axis the number of times that line 40 was executed in the program that was used for profiling\n",
        "\n",
        " Notice that execution time and the number of times that certain instructions are executed depend on the kind of instance that the algorithm is solving.\n",
        "\n",
        " The big O notation requires us to be cautious, therefore we report the worst possible time.\n",
        "\n",
        " Let n be the size of the multiset. What is the growth rate for this algorithm?"
      ],
      "metadata": {
        "id": "thyeedqRY_LX"
      }
    }
  ]
}